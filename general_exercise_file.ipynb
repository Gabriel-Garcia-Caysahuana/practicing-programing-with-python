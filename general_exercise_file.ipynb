{
 "cells": [
  {
   "cell_type": "markdown",
   "id": "2f9d5280-4c7f-482b-a335-3b9af1f10200",
   "metadata": {},
   "source": [
    "# 2. Estructura de datos\n"
   ]
  },
  {
   "cell_type": "markdown",
   "id": "e75c0c70-15b6-4906-86b8-1c81c5c10b58",
   "metadata": {},
   "source": [
    "## 2.1. Listas\n"
   ]
  },
  {
   "cell_type": "markdown",
   "id": "451d8f79-591b-4830-a8b7-433aa1371a97",
   "metadata": {},
   "source": [
    "### Básico\n"
   ]
  },
  {
   "cell_type": "markdown",
   "id": "fc214cb0",
   "metadata": {},
   "source": [
    "#### Ejercicio 01\n"
   ]
  },
  {
   "cell_type": "code",
   "execution_count": 1,
   "id": "825d8e39-2e02-4e9a-9149-ada1f0199782",
   "metadata": {},
   "outputs": [
    {
     "name": "stdout",
     "output_type": "stream",
     "text": [
      "1 , 5\n"
     ]
    }
   ],
   "source": [
    "lsita = [1, 2, 3, 4, 5]\n",
    "print(lsita[0], \",\", lsita[-1])"
   ]
  },
  {
   "cell_type": "markdown",
   "id": "033c291d",
   "metadata": {},
   "source": [
    "#### Ejercicio 02\n"
   ]
  },
  {
   "cell_type": "code",
   "execution_count": 2,
   "id": "1f059169-ce4d-4c8d-884b-d0708f8b7bc0",
   "metadata": {},
   "outputs": [
    {
     "name": "stdout",
     "output_type": "stream",
     "text": [
      "[1, 3, 4, 5, 6]\n"
     ]
    }
   ],
   "source": [
    "lsita.append(6)\n",
    "lsita.remove(lsita[1])\n",
    "print(lsita)"
   ]
  },
  {
   "cell_type": "markdown",
   "id": "60bb207f",
   "metadata": {},
   "source": [
    "#### Ejercicio 03\n"
   ]
  },
  {
   "cell_type": "code",
   "execution_count": 3,
   "id": "f46a9c96-209e-45f6-9849-ee2bef6ea0cc",
   "metadata": {},
   "outputs": [
    {
     "name": "stdout",
     "output_type": "stream",
     "text": [
      "[2, 10, 12, 34, 45, 98]\n"
     ]
    }
   ],
   "source": [
    "pepita = [34, 45, 12, 2, 98]\n",
    "pepita.append(10)\n",
    "pepita.sort()\n",
    "print(pepita)"
   ]
  },
  {
   "cell_type": "markdown",
   "id": "c98f7689",
   "metadata": {},
   "source": [
    "#### Ejercicio 04\n"
   ]
  },
  {
   "cell_type": "code",
   "execution_count": 4,
   "id": "816ada51-2e8b-4d33-830a-86732da4b678",
   "metadata": {},
   "outputs": [
    {
     "name": "stdout",
     "output_type": "stream",
     "text": [
      "Nombre: Sofia, Indice: 1\n",
      "Nombre: Rosmery, Indice: 2\n",
      "Nombre: Abby, Indice: 3\n",
      "Nombre: Naomi, Indice: 4\n",
      "Nombre: Ana, Indice: 5\n",
      "Nombre: Paula, Indice: 6\n",
      "Nombre: Allison, Indice: 7\n",
      "Nombre: Rosario, Indice: 8\n"
     ]
    }
   ],
   "source": [
    "nombres = [\"Sofia\", \"Rosmery\", \"Abby\", \"Naomi\", \"Ana\", \"Paula\", \"Allison\", \"Rosario\"]\n",
    "\n",
    "for index, nombre in enumerate(nombres, start=1):\n",
    "    print(f\"Nombre: {nombre}, Indice: {index}\")"
   ]
  },
  {
   "cell_type": "markdown",
   "id": "71c24306",
   "metadata": {},
   "source": [
    "#### Ejericio 05\n"
   ]
  },
  {
   "cell_type": "code",
   "execution_count": 5,
   "id": "480f37d6-7c82-44c3-bee9-fa05bb5b3738",
   "metadata": {},
   "outputs": [
    {
     "name": "stdout",
     "output_type": "stream",
     "text": [
      "Indice:2, valor: 2\n",
      "Indice:4, valor: 4\n",
      "Indice:6, valor: 6\n",
      "Indice:8, valor: 8\n",
      "Indice:10, valor: 0\n",
      "Indice:12, valor: 2\n",
      "Indice:14, valor: 4\n",
      "Indice:16, valor: 6\n",
      "Indice:18, valor: 8\n"
     ]
    }
   ],
   "source": [
    "numeros = [1, 2, 3, 4, 5, 6, 7, 8, 9, 0, 1, 2, 3, 4, 5, 6, 7, 8]\n",
    "for index, numero in enumerate(numeros, start=1):\n",
    "    if index % 2 == 0:\n",
    "        print(f\"Indice:{index}, valor: {numero}\")\n",
    "    else:\n",
    "        continue"
   ]
  },
  {
   "cell_type": "markdown",
   "id": "496cfc20-2cb7-4f1c-b4c1-57e33210b108",
   "metadata": {},
   "source": [
    "### Intermedio\n"
   ]
  },
  {
   "cell_type": "markdown",
   "id": "083ca858",
   "metadata": {},
   "source": [
    "#### Ejercicio 01\n"
   ]
  },
  {
   "cell_type": "code",
   "execution_count": null,
   "id": "c397ba8f-ffeb-49d3-854a-1c753e2e18ee",
   "metadata": {},
   "outputs": [],
   "source": [
    "list_of_lists = [\n",
    "    [\"1\", \"2\", \"3\", \"4\", \"5\"],\n",
    "    [\"a\", \"b\", \"c\", \"d\", \"e\"],\n",
    "    [\"A\", \"B\", \"C\", \"D\", \"E\"],\n",
    "    [1, 2, 3, 4, 5],\n",
    "]\n",
    "for lista in list_of_lists:\n",
    "    for elemento in lista:\n",
    "        print(\n",
    "            f\"Lista: {list_of_lists.index(lista)+1}°; index: {lista.index(elemento)+1}° ---> {elemento}\"\n",
    "        )"
   ]
  },
  {
   "cell_type": "markdown",
   "id": "3f505f54",
   "metadata": {},
   "source": [
    "#### Ejercicio 02:\n"
   ]
  },
  {
   "cell_type": "code",
   "execution_count": 2,
   "id": "b90c9c51-2a72-4796-ba18-8f0b0f00b74f",
   "metadata": {},
   "outputs": [
    {
     "name": "stdout",
     "output_type": "stream",
     "text": [
      "[2, 4, 6, 8, 10, 12, 14]\n"
     ]
    }
   ],
   "source": [
    "lista = [1, 2, 3, 4, 5, 6, 7, 8, 9, 10, 11, 12, 13, 14]\n",
    "lista_pares = [i for i in lista if i % 2 == 0]\n",
    "\n",
    "print(lista_pares)"
   ]
  },
  {
   "cell_type": "markdown",
   "id": "8fb42db0",
   "metadata": {},
   "source": [
    "#### Ejercicio 03\n"
   ]
  },
  {
   "cell_type": "code",
   "execution_count": 14,
   "id": "ccd65f99-2257-4529-8cdf-edfba3339bba",
   "metadata": {},
   "outputs": [
    {
     "name": "stdout",
     "output_type": "stream",
     "text": [
      "['Hola', 'cómo', 'estás', 'en', 'este', 'día', 'tan', 'bonito', 'j', 'e']\n",
      "['cómo', 'estás', 'en', 'este', 'día', 'tan', 'bonito', 'j', 'e']\n"
     ]
    },
    {
     "data": {
      "text/plain": [
       "6"
      ]
     },
     "execution_count": 14,
     "metadata": {},
     "output_type": "execute_result"
    }
   ],
   "source": [
    "caracteres = [\"Hola\", \"cómo\", \"estás\", \"en\", \"este\", \"día\", \"tan\", \"bonito\"]\n",
    "\n",
    "caracteres.extend(\"je\")\n",
    "print(caracteres)\n",
    "caracteres.remove(\"Hola\")\n",
    "print(caracteres)\n",
    "caracteres.index(\"bonito\")"
   ]
  },
  {
   "cell_type": "markdown",
   "id": "2b5c8aaf-9b37-4e0d-8d6e-4c008c17ee97",
   "metadata": {},
   "source": [
    "## 2.2. Tuplas\n"
   ]
  },
  {
   "cell_type": "markdown",
   "id": "f984481f-12ac-4327-93b7-b9a09a203da2",
   "metadata": {},
   "source": [
    "### Básico\n"
   ]
  },
  {
   "cell_type": "markdown",
   "id": "623fe9b0",
   "metadata": {},
   "source": [
    "#### Ejercicio 01\n"
   ]
  },
  {
   "cell_type": "code",
   "execution_count": 2,
   "id": "5fd352d0-1093-4190-b9e0-6e94b2e3fc83",
   "metadata": {},
   "outputs": [
    {
     "name": "stdout",
     "output_type": "stream",
     "text": [
      "segundo\n"
     ]
    }
   ],
   "source": [
    "mitupla = (\"primero\", \"segundo\", \"tercero\")\n",
    "print(mitupla[1])"
   ]
  },
  {
   "cell_type": "markdown",
   "id": "79489e1c",
   "metadata": {},
   "source": [
    "#### Ejercicio 02\n"
   ]
  },
  {
   "cell_type": "code",
   "execution_count": 1,
   "id": "7ced763e-ab67-41ed-a6cc-dd401e6e2e05",
   "metadata": {},
   "outputs": [
    {
     "name": "stdout",
     "output_type": "stream",
     "text": [
      "El tamaño de la tupla es: 3\n",
      "True\n"
     ]
    }
   ],
   "source": [
    "mitupla = (\"primero\", \"segundo\", \"tercero\")\n",
    "print(f\"El tamaño de la tupla es: {len(mitupla)}\")\n",
    "x = \"primero\"\n",
    "if x in mitupla:\n",
    "    print(True)\n",
    "else:\n",
    "    print(False)"
   ]
  },
  {
   "cell_type": "markdown",
   "id": "863d0153",
   "metadata": {},
   "source": [
    "### Ejercicio 03\n"
   ]
  },
  {
   "cell_type": "code",
   "execution_count": 2,
   "id": "e6ca6a92-5ded-4533-b2ab-d361b780ec66",
   "metadata": {},
   "outputs": [
    {
     "name": "stdout",
     "output_type": "stream",
     "text": [
      "x = 10, y = 5\n"
     ]
    }
   ],
   "source": [
    "x = 5\n",
    "y = 10\n",
    "x, y = 10, 5\n",
    "print(f\"x = {x}, y = {y}\")"
   ]
  },
  {
   "cell_type": "markdown",
   "id": "f212d8ec",
   "metadata": {},
   "source": [
    "#### Ejercicio 04\n"
   ]
  },
  {
   "cell_type": "code",
   "execution_count": 3,
   "id": "9cb5ccac",
   "metadata": {},
   "outputs": [
    {
     "data": {
      "text/plain": [
       "(10, 24)"
      ]
     },
     "execution_count": 3,
     "metadata": {},
     "output_type": "execute_result"
    }
   ],
   "source": [
    "def multiplicar(x, y):\n",
    "    return x + y, x * y\n",
    "\n",
    "\n",
    "multiplicar(4, 6)"
   ]
  },
  {
   "cell_type": "markdown",
   "id": "146ad995",
   "metadata": {},
   "source": [
    "#### Ejercicio 5\n"
   ]
  },
  {
   "cell_type": "code",
   "execution_count": 55,
   "id": "b74cc6bb",
   "metadata": {},
   "outputs": [
    {
     "name": "stdout",
     "output_type": "stream",
     "text": [
      "rojo\n",
      "('verde', 'azul')\n"
     ]
    }
   ],
   "source": [
    "mi_tupla = (\"rojo\", \"verde\", \"azul\", \"amarillo\")\n",
    "print(mi_tupla[0])\n",
    "print(mi_tupla[1:3])"
   ]
  },
  {
   "cell_type": "markdown",
   "id": "b143f372",
   "metadata": {},
   "source": [
    "## 2.3. Diccionarios\n"
   ]
  },
  {
   "cell_type": "markdown",
   "id": "c8457ef7",
   "metadata": {},
   "source": [
    "### Básico\n"
   ]
  },
  {
   "cell_type": "markdown",
   "id": "7017b966",
   "metadata": {},
   "source": [
    "#### Ejercicio 01\n"
   ]
  },
  {
   "cell_type": "code",
   "execution_count": 4,
   "id": "d9e664c0",
   "metadata": {},
   "outputs": [
    {
     "data": {
      "text/plain": [
       "'valor02'"
      ]
     },
     "execution_count": 4,
     "metadata": {},
     "output_type": "execute_result"
    }
   ],
   "source": [
    "miDiccionario = {\"llave01\": \"valor01\", \"llave02\": \"valor02\", \"llave03\": \"llave04\"}\n",
    "miDiccionario[\"llave02\"]"
   ]
  },
  {
   "cell_type": "markdown",
   "id": "52b74495",
   "metadata": {},
   "source": [
    "#### Ejercicio 02\n"
   ]
  },
  {
   "cell_type": "code",
   "execution_count": 15,
   "id": "87e603d3",
   "metadata": {},
   "outputs": [
    {
     "name": "stdout",
     "output_type": "stream",
     "text": [
      "{'llave01': 'valor01', 'llave02': 'valor02_modificado', 'llave03': 'llave04'}\n",
      "{'llave01': 'valor01', 'llave02': 'valor02_modificado'}\n"
     ]
    }
   ],
   "source": [
    "miDiccionario = {\"llave01\": \"valor01\", \"llave02\": \"valor02\", \"llave03\": \"llave04\"}\n",
    "miDiccionario.get(\"llave02\")\n",
    "miDiccionario.update(llave02=\"valor02_modificado\")\n",
    "print(miDiccionario)\n",
    "miDiccionario.pop(\"llave03\")\n",
    "print(miDiccionario)"
   ]
  },
  {
   "cell_type": "markdown",
   "id": "9b9a7dc0",
   "metadata": {},
   "source": [
    "### Intermedio\n"
   ]
  },
  {
   "cell_type": "markdown",
   "id": "bd15c9b4",
   "metadata": {},
   "source": [
    "#### Ejercicio 01\n"
   ]
  },
  {
   "cell_type": "code",
   "execution_count": 23,
   "id": "3637f7e6",
   "metadata": {},
   "outputs": [
    {
     "name": "stdout",
     "output_type": "stream",
     "text": [
      "{'hola': 3, 'adios': 5, 'que tal': 2}\n"
     ]
    }
   ],
   "source": [
    "palabras = [\n",
    "    \"hola\",\n",
    "    \"adios\",\n",
    "    \"hola\",\n",
    "    \"adios\",\n",
    "    \"que tal\",\n",
    "    \"adios\",\n",
    "    \"hola\",\n",
    "    \"que tal\",\n",
    "    \"adios\",\n",
    "    \"adios\",\n",
    "]\n",
    "frecuencias = {}\n",
    "for palabra in palabras:\n",
    "    if palabra not in frecuencias:\n",
    "        frecuencias[palabra] = 1\n",
    "    else:\n",
    "        frecuencias[palabra] += 1\n",
    "print(frecuencias)"
   ]
  },
  {
   "cell_type": "markdown",
   "id": "636b0b1f",
   "metadata": {},
   "source": [
    "#### Ejercicio 02\n"
   ]
  },
  {
   "cell_type": "code",
   "execution_count": 34,
   "id": "913c148f",
   "metadata": {},
   "outputs": [
    {
     "name": "stdout",
     "output_type": "stream",
     "text": [
      "Precio de televisor actualizado\n",
      "El precio de parlante no actualizado. Es mayor o igual que el actual.\n"
     ]
    }
   ],
   "source": [
    "precios_productos = {\n",
    "    \"televisor\": 3000,\n",
    "    \"computadora\": 5000,\n",
    "    \"playstation\": 4000,\n",
    "    \"licuadora\": 500,\n",
    "    \"parlante\": 800,\n",
    "}\n",
    "\n",
    "actualizaciones = {\"televisor\": 2800, \"parlante\": 1000}\n",
    "\n",
    "for clave, valor in actualizaciones.items():\n",
    "    if valor < precios_productos[clave]:\n",
    "        precios_productos.update({clave: valor})\n",
    "        print(f\"Precio de {clave} actualizado\")\n",
    "    else:\n",
    "        print(f\"El precio de {clave} no actualizado. Es mayor o igual que el actual.\")"
   ]
  },
  {
   "cell_type": "markdown",
   "id": "f8960963",
   "metadata": {},
   "source": [
    "#### Ejercicio 03\n"
   ]
  },
  {
   "cell_type": "code",
   "execution_count": 40,
   "id": "5e6afd8f",
   "metadata": {},
   "outputs": [
    {
     "name": "stdout",
     "output_type": "stream",
     "text": [
      "Juan : 15.666666666666666\n",
      "Ana : 15.666666666666666\n",
      "Luis : 14.666666666666666\n",
      "Priscila : 19.666666666666668\n"
     ]
    }
   ],
   "source": [
    "estudiantes = {\n",
    "    \"Juan\": {\"edad\": 16, \"notas\": [16, 17, 14]},\n",
    "    \"Ana\": {\"edad\": 16, \"notas\": [17, 16, 14]},\n",
    "    \"Luis\": {\"edad\": 14, \"notas\": [13, 15, 16]},\n",
    "    \"Priscila\": {\"edad\": 17, \"notas\": [19, 20, 20]},\n",
    "}\n",
    "\n",
    "\n",
    "def promedios_estudiantes(diccionario):\n",
    "    promedios = {}\n",
    "    for clave, valor in diccionario.items():\n",
    "        promedios[clave] = sum(valor[\"notas\"]) / len(valor[\"notas\"])\n",
    "    for clave, valor in promedios.items():\n",
    "        print(f\"{clave} : {valor}\")\n",
    "\n",
    "\n",
    "promedios_estudiantes(estudiantes)"
   ]
  },
  {
   "cell_type": "markdown",
   "id": "9463d21f",
   "metadata": {},
   "source": [
    "## 2.4. Conjuntos\n"
   ]
  },
  {
   "cell_type": "markdown",
   "id": "1f566381",
   "metadata": {},
   "source": [
    "### Básico\n"
   ]
  },
  {
   "cell_type": "markdown",
   "id": "f44472b0",
   "metadata": {},
   "source": [
    "#### Ejercicio 01\n"
   ]
  },
  {
   "cell_type": "code",
   "execution_count": 41,
   "id": "3dde4bfd",
   "metadata": {},
   "outputs": [
    {
     "name": "stdout",
     "output_type": "stream",
     "text": [
      "{1, 2, 3, 4}\n"
     ]
    }
   ],
   "source": [
    "miConjunto = {1, 2, 3, 4}\n",
    "print(miConjunto)"
   ]
  },
  {
   "cell_type": "markdown",
   "id": "2bf92b68",
   "metadata": {},
   "source": [
    "#### Ejercicio 02\n"
   ]
  },
  {
   "cell_type": "code",
   "execution_count": 44,
   "id": "c979cbe4",
   "metadata": {},
   "outputs": [
    {
     "name": "stdout",
     "output_type": "stream",
     "text": [
      "{1, 2, 3, 4, 5, 6, 7, 8, 9, 10, 11, 12}\n"
     ]
    }
   ],
   "source": [
    "conjunto_A = {1, 2, 3, 4, 5, 6}\n",
    "conjunto_B = {7, 9, 10, 11}\n",
    "conjunto_A.add(8)\n",
    "conjunto_B.add(12)\n",
    "print(conjunto_A | conjunto_B)"
   ]
  },
  {
   "cell_type": "markdown",
   "id": "465e3427",
   "metadata": {},
   "source": [
    "### Intermedio\n"
   ]
  },
  {
   "cell_type": "markdown",
   "id": "b5b72988",
   "metadata": {},
   "source": [
    "#### Ejercicio 01\n"
   ]
  },
  {
   "cell_type": "code",
   "execution_count": 47,
   "id": "425b5f40",
   "metadata": {},
   "outputs": [
    {
     "name": "stdout",
     "output_type": "stream",
     "text": [
      "{1, 2, 3}\n",
      "{4, 5, 6, 7}\n",
      "{1, 2, 3, 4, 5, 6, 7, 8, 9, 10, 11}\n"
     ]
    }
   ],
   "source": [
    "conjunto_A = {1, 2, 3, 4, 5, 6, 7}\n",
    "conjunto_B = {4, 5, 6, 7, 8, 9, 10, 11}\n",
    "print(conjunto_A - conjunto_B)\n",
    "print(conjunto_A & conjunto_B)\n",
    "print(conjunto_A | conjunto_B)"
   ]
  },
  {
   "cell_type": "markdown",
   "id": "e02a4080",
   "metadata": {},
   "source": [
    "#### Ejercicio 02\n"
   ]
  },
  {
   "cell_type": "code",
   "execution_count": 55,
   "id": "87eb728f",
   "metadata": {},
   "outputs": [
    {
     "name": "stdout",
     "output_type": "stream",
     "text": [
      "True\n",
      "True\n",
      "True\n",
      "True\n"
     ]
    }
   ],
   "source": [
    "# Resolver nuevamente"
   ]
  },
  {
   "cell_type": "markdown",
   "id": "c962945e",
   "metadata": {},
   "source": [
    "## 2.5. Iterables e iteradores\n"
   ]
  },
  {
   "cell_type": "markdown",
   "id": "b8515436",
   "metadata": {},
   "source": [
    "### Básico\n"
   ]
  },
  {
   "cell_type": "markdown",
   "id": "0a842884",
   "metadata": {},
   "source": [
    "#### Ejercicio 01\n"
   ]
  },
  {
   "cell_type": "code",
   "execution_count": 59,
   "id": "403dbeb2",
   "metadata": {},
   "outputs": [
    {
     "name": "stdout",
     "output_type": "stream",
     "text": [
      "1\n",
      "2\n",
      "3\n",
      "4\n",
      "5\n"
     ]
    }
   ],
   "source": [
    "lista = [1, 2, 3, 4, 5]\n",
    "iterador = iter(lista)\n",
    "print(next(iterador))\n",
    "print(next(iterador))\n",
    "print(next(iterador))\n",
    "print(next(iterador))\n",
    "print(next(iterador))\n",
    "# print(next(iterador))"
   ]
  },
  {
   "cell_type": "markdown",
   "id": "a75bd60c",
   "metadata": {},
   "source": [
    "#### Ejercicio 02\n"
   ]
  },
  {
   "cell_type": "code",
   "execution_count": 63,
   "id": "5f775b41",
   "metadata": {},
   "outputs": [
    {
     "name": "stdout",
     "output_type": "stream",
     "text": [
      "H\n",
      "o\n",
      "l\n",
      "a\n",
      " \n",
      "m\n",
      "u\n",
      "n\n",
      "d\n",
      "o\n"
     ]
    }
   ],
   "source": [
    "cadena = \"Hola mundo\"\n",
    "iterador = iter(cadena)\n",
    "for caracter in iterador:\n",
    "    print(caracter)"
   ]
  },
  {
   "cell_type": "markdown",
   "id": "10e76beb",
   "metadata": {},
   "source": [
    "## 2.6. Cadenas (operaciones y métodos comúnes)\n"
   ]
  },
  {
   "cell_type": "markdown",
   "id": "f5bf40dc",
   "metadata": {},
   "source": [
    "### Básico\n"
   ]
  },
  {
   "cell_type": "code",
   "execution_count": 85,
   "id": "f8e9c5ed",
   "metadata": {},
   "outputs": [
    {
     "name": "stdout",
     "output_type": "stream",
     "text": [
      "Gabriel,García\n"
     ]
    }
   ],
   "source": [
    "# Ejercicio 01\n",
    "persona = \"Gabriel García\"\n",
    "s = persona[:7] + \",\" + persona[8:]\n",
    "print(s)"
   ]
  },
  {
   "cell_type": "code",
   "execution_count": 98,
   "id": "c1b73085",
   "metadata": {},
   "outputs": [
    {
     "data": {
      "text/plain": [
       "'soida'"
      ]
     },
     "execution_count": 98,
     "metadata": {},
     "output_type": "execute_result"
    }
   ],
   "source": [
    "# Ejercicio 02\n",
    "cadena = \"adios\"\n",
    "s = \"\".join(reversed(list(cadena)))\n",
    "s"
   ]
  },
  {
   "cell_type": "code",
   "execution_count": 105,
   "id": "efb0e9b8",
   "metadata": {},
   "outputs": [
    {
     "data": {
      "text/plain": [
       "1"
      ]
     },
     "execution_count": 105,
     "metadata": {},
     "output_type": "execute_result"
    }
   ],
   "source": [
    "# Ejercicio 03\n",
    "cadena = \"asdasdassdsdfasadasi\"\n",
    "c = cadena.count(\"i\")\n",
    "c"
   ]
  },
  {
   "cell_type": "code",
   "execution_count": null,
   "id": "3539d3eb",
   "metadata": {},
   "outputs": [],
   "source": [
    "# Ejercicio 04"
   ]
  },
  {
   "cell_type": "markdown",
   "id": "7a4b638d",
   "metadata": {},
   "source": [
    "## 2.7. Otros ejercicios\n"
   ]
  },
  {
   "cell_type": "markdown",
   "id": "83e79c2b-7848-4b29-8050-af63ad597657",
   "metadata": {},
   "source": [
    "#### 2.7.1. Ejercicios de tuplas\n"
   ]
  },
  {
   "cell_type": "code",
   "execution_count": 8,
   "id": "fab2922d",
   "metadata": {},
   "outputs": [],
   "source": [
    "data = [\n",
    "    (1, \"Alice\", \"2024-08-30\", \"09:00\", \"10:00\"),\n",
    "    (2, \"Bob\", \"2024-08-31\", \"10:00\", \"11:00\"),\n",
    "    (3, \"Alice\", \"2024-08-29\", \"09:00\", \"10:30\"),\n",
    "]"
   ]
  },
  {
   "cell_type": "code",
   "execution_count": 2,
   "id": "00c6753a",
   "metadata": {},
   "outputs": [
    {
     "name": "stdout",
     "output_type": "stream",
     "text": [
      "['Alice', 'Bob', 'Alice']\n",
      "['Alice', 'Bob', 'Alice']\n"
     ]
    }
   ],
   "source": [
    "# Ejercicio 01\n",
    "nombres_en_data = []\n",
    "for i in data:\n",
    "    nombres_en_data.append(i[1])\n",
    "print(nombres_en_data)\n",
    "\n",
    "nombres_en_data = [i[1] for i in data]\n",
    "print(nombres_en_data)"
   ]
  },
  {
   "cell_type": "code",
   "execution_count": 5,
   "id": "aa5ba32b",
   "metadata": {},
   "outputs": [
    {
     "name": "stdout",
     "output_type": "stream",
     "text": [
      "(1, 'Alice', '2024-08-30', '09:00', '10:00')\n",
      "(3, 'Alice', '2024-08-29', '09:00', '10:30')\n"
     ]
    }
   ],
   "source": [
    "# Ejercicio 02\n",
    "nombre = \"Alice\"\n",
    "for i in data:\n",
    "    if i[1] == nombre:\n",
    "        print(i)"
   ]
  },
  {
   "cell_type": "code",
   "execution_count": 7,
   "id": "9d295475",
   "metadata": {},
   "outputs": [
    {
     "name": "stdout",
     "output_type": "stream",
     "text": [
      "[(3, 'Alice', '2024-08-29', '09:00', '10:30'), (1, 'Alice', '2024-08-30', '09:00', '10:00'), (2, 'Bob', '2024-08-31', '10:00', '11:00')]\n",
      "[(1, 'Alice', '2024-08-30', '09:00', '10:00'), (3, 'Alice', '2024-08-29', '09:00', '10:30'), (2, 'Bob', '2024-08-31', '10:00', '11:00')]\n"
     ]
    }
   ],
   "source": [
    "# Ejercicio 03:\n",
    "from datetime import datetime, timedelta\n",
    "\n",
    "dataOrdenadaPorFecha = sorted(data, key=lambda x: datetime.strptime(x[2], \"%Y-%m-%d\"))\n",
    "dataOrdenadaPorHoraDeInicio = sorted(\n",
    "    data, key=lambda x: datetime.strptime(x[3], \"%H:%M\")\n",
    ")\n",
    "\n",
    "print(dataOrdenadaPorFecha)\n",
    "print(dataOrdenadaPorHoraDeInicio)"
   ]
  },
  {
   "cell_type": "code",
   "execution_count": 54,
   "id": "e99cedc3",
   "metadata": {},
   "outputs": [
    {
     "name": "stdout",
     "output_type": "stream",
     "text": [
      "Alice :  [(1, '2024-08-30', '09:00', '10:00'), (3, '2024-08-29', '09:00', '10:30')]\n",
      "Bob :  [(2, '2024-08-31', '10:00', '11:00')]\n"
     ]
    }
   ],
   "source": [
    "# Ejercicio 04\n",
    "nombres = []\n",
    "for tupla in data:\n",
    "    for item, valor in enumerate(tupla):\n",
    "        if item == 1:\n",
    "            if valor in nombres:\n",
    "                continue\n",
    "            else:\n",
    "                nombres.append(valor)\n",
    "        else:\n",
    "            continue\n",
    "diccionario = {}\n",
    "for tupla in data:\n",
    "    for nombre in nombres:\n",
    "        if tupla[1] == nombre:\n",
    "            if nombre not in diccionario:\n",
    "                diccionario[nombre] = [(tupla[:1]) + tupla[2:]]\n",
    "            else:\n",
    "                diccionario[nombre].append((tupla[:1]) + tupla[2:])\n",
    "        else:\n",
    "            continue\n",
    "for clave, valor in diccionario.items():\n",
    "    print(clave, \": \", valor)"
   ]
  },
  {
   "cell_type": "code",
   "execution_count": 48,
   "id": "aab7ff53",
   "metadata": {},
   "outputs": [
    {
     "data": {
      "text/plain": [
       "('A', 'C', 'D')"
      ]
     },
     "execution_count": 48,
     "metadata": {},
     "output_type": "execute_result"
    }
   ],
   "source": [
    "tupla = (\"A\", \"B\", \"C\", \"D\")\n",
    "(tupla[:1]) + tupla[2:]"
   ]
  },
  {
   "cell_type": "markdown",
   "id": "f7b37bcc",
   "metadata": {},
   "source": []
  },
  {
   "cell_type": "markdown",
   "id": "447d6703",
   "metadata": {},
   "source": [
    "# 3. Funciones\n"
   ]
  },
  {
   "cell_type": "markdown",
   "id": "8786496f",
   "metadata": {},
   "source": [
    "## 3.1. Definición de funciones\n"
   ]
  },
  {
   "cell_type": "markdown",
   "id": "72011c98",
   "metadata": {},
   "source": [
    "### Básico\n"
   ]
  },
  {
   "cell_type": "markdown",
   "id": "feec20b5",
   "metadata": {},
   "source": [
    "#### Ejercicio 01\n"
   ]
  },
  {
   "cell_type": "code",
   "execution_count": 64,
   "id": "0d36acbb",
   "metadata": {},
   "outputs": [],
   "source": [
    "def sumar(a, b):\n",
    "    return a + b"
   ]
  },
  {
   "cell_type": "markdown",
   "id": "7d6c26b0",
   "metadata": {},
   "source": [
    "#### Ejercicio 02\n"
   ]
  },
  {
   "cell_type": "code",
   "execution_count": 65,
   "id": "fba11c4f",
   "metadata": {},
   "outputs": [
    {
     "data": {
      "text/plain": [
       "96.8"
      ]
     },
     "execution_count": 65,
     "metadata": {},
     "output_type": "execute_result"
    }
   ],
   "source": [
    "def convertirCelsius_aFahrenheit(grados):\n",
    "    return grados * 1.8 + 32\n",
    "\n",
    "\n",
    "convertirCelsius_aFahrenheit(36)"
   ]
  },
  {
   "cell_type": "markdown",
   "id": "1211d56b",
   "metadata": {},
   "source": [
    "#### Ejercicio 03\n"
   ]
  },
  {
   "cell_type": "code",
   "execution_count": 66,
   "id": "d2f48e6a",
   "metadata": {},
   "outputs": [
    {
     "name": "stdout",
     "output_type": "stream",
     "text": [
      "Hola amigo Gabriel\n"
     ]
    }
   ],
   "source": [
    "def print_saludar(nombre):\n",
    "    print(f\"Hola amigo {nombre}\")\n",
    "\n",
    "\n",
    "print_saludar(\"Gabriel\")"
   ]
  },
  {
   "cell_type": "markdown",
   "id": "60200fda",
   "metadata": {},
   "source": [
    "#### Ejercicio 04\n"
   ]
  },
  {
   "cell_type": "code",
   "execution_count": 56,
   "id": "52e22901",
   "metadata": {},
   "outputs": [
    {
     "data": {
      "text/plain": [
       "(25, 156)"
      ]
     },
     "execution_count": 56,
     "metadata": {},
     "output_type": "execute_result"
    }
   ],
   "source": [
    "def sum_producto(a, b):\n",
    "    return a + b, a * b\n",
    "\n",
    "\n",
    "sum_producto(12, 13)"
   ]
  },
  {
   "cell_type": "markdown",
   "id": "1d8727f2",
   "metadata": {},
   "source": [
    "#### Ejercicio 05\n"
   ]
  },
  {
   "cell_type": "code",
   "execution_count": 59,
   "id": "f67141ab",
   "metadata": {},
   "outputs": [
    {
     "data": {
      "text/plain": [
       "25"
      ]
     },
     "execution_count": 59,
     "metadata": {},
     "output_type": "execute_result"
    }
   ],
   "source": [
    "def prueba():\n",
    "    a = 12\n",
    "\n",
    "    def sub_prueba():\n",
    "        b = 13\n",
    "        return a + b\n",
    "\n",
    "    return sub_prueba()\n",
    "\n",
    "\n",
    "prueba()"
   ]
  },
  {
   "cell_type": "code",
   "execution_count": 61,
   "id": "a581106d",
   "metadata": {},
   "outputs": [
    {
     "data": {
      "text/plain": [
       "6"
      ]
     },
     "execution_count": 61,
     "metadata": {},
     "output_type": "execute_result"
    }
   ],
   "source": [
    "def factorial(n):\n",
    "    if n == 1:\n",
    "        return 1\n",
    "    else:\n",
    "        return n * factorial(n - 1)\n",
    "\n",
    "\n",
    "factorial(3)"
   ]
  },
  {
   "cell_type": "markdown",
   "id": "62b5128f",
   "metadata": {},
   "source": [
    "### 2.2. Parametros y argumentos\n"
   ]
  },
  {
   "cell_type": "markdown",
   "id": "4bf973ca",
   "metadata": {},
   "source": [
    "#### Básico\n"
   ]
  },
  {
   "cell_type": "code",
   "execution_count": 62,
   "id": "6fa03199",
   "metadata": {},
   "outputs": [
    {
     "name": "stdout",
     "output_type": "stream",
     "text": [
      "hola Gabriel\n",
      "Hola amigo Gabriel\n"
     ]
    }
   ],
   "source": [
    "# Ejercicio 01\n",
    "def saludo(nombre, mensaje=\"hola\"):\n",
    "    print(f\"{mensaje} {nombre}\")\n",
    "\n",
    "\n",
    "saludo(\"Gabriel\")\n",
    "saludo(\"Gabriel\", mensaje=\"Hola amigo\")"
   ]
  },
  {
   "cell_type": "code",
   "execution_count": 65,
   "id": "277cf256",
   "metadata": {},
   "outputs": [
    {
     "name": "stdout",
     "output_type": "stream",
     "text": [
      "Nombre: Gabriel\n",
      "Edad: 25\n",
      "Nombre: Malú\n",
      "Edad: no especificada\n"
     ]
    }
   ],
   "source": [
    "# Ejercicio 02\n",
    "def describir_persona(**kwargs):\n",
    "    nombre = kwargs.get(\"nombre\", \"no especificada\")\n",
    "    edad = kwargs.get(\"edad\", \"no especificada\")\n",
    "    print(f\"Nombre: {nombre}\")\n",
    "    print(f\"Edad: {edad}\")\n",
    "\n",
    "\n",
    "describir_persona(nombre=\"Gabriel\", edad=25)\n",
    "describir_persona(nombre=\"Malú\")"
   ]
  },
  {
   "cell_type": "code",
   "execution_count": 66,
   "id": "ddb8d8ed",
   "metadata": {},
   "outputs": [
    {
     "name": "stdout",
     "output_type": "stream",
     "text": [
      "Nombre : Gabriel\n",
      "edad : 25\n",
      "Nacimiento : 29/11/1998\n"
     ]
    }
   ],
   "source": [
    "# Ejercicio 03\n",
    "def imprimir_info(**info):\n",
    "    for clave, valor in info.items():\n",
    "        print(f\"{clave} : {valor}\")\n",
    "\n",
    "\n",
    "imprimir_info(Nombre=\"Gabriel\", edad=25, Nacimiento=\"29/11/1998\")"
   ]
  },
  {
   "cell_type": "code",
   "execution_count": 69,
   "id": "3f4113d2",
   "metadata": {},
   "outputs": [
    {
     "name": "stdout",
     "output_type": "stream",
     "text": [
      "[1, 2, 3, 4, 5]\n",
      "5\n"
     ]
    }
   ],
   "source": [
    "# Ejercicio 04\n",
    "def modificar_lista(lista, numero):\n",
    "    lista.append(numero)\n",
    "    numero = numero * 5\n",
    "\n",
    "\n",
    "lista = [1, 2, 3, 4]\n",
    "numero = 5\n",
    "modificar_lista(lista, numero)\n",
    "print(lista)\n",
    "print(numero)"
   ]
  },
  {
   "cell_type": "markdown",
   "id": "2ccf56f2",
   "metadata": {},
   "source": [
    "## 3.3. Funciones Lambda (Funciones anónimas)\n"
   ]
  },
  {
   "cell_type": "markdown",
   "id": "88ad3b0e",
   "metadata": {},
   "source": [
    "### Básico\n"
   ]
  },
  {
   "cell_type": "code",
   "execution_count": 73,
   "id": "56d10769",
   "metadata": {},
   "outputs": [
    {
     "data": {
      "text/plain": [
       "30"
      ]
     },
     "execution_count": 73,
     "metadata": {},
     "output_type": "execute_result"
    }
   ],
   "source": [
    "# Ejercicio 01\n",
    "f = lambda x, y: x + y\n",
    "f(10, 20)"
   ]
  },
  {
   "cell_type": "code",
   "execution_count": 78,
   "id": "582695ae",
   "metadata": {},
   "outputs": [
    {
     "data": {
      "text/plain": [
       "49"
      ]
     },
     "execution_count": 78,
     "metadata": {},
     "output_type": "execute_result"
    }
   ],
   "source": [
    "# Ejercicio 02\n",
    "f = lambda x: x**2\n",
    "f(7)"
   ]
  },
  {
   "cell_type": "code",
   "execution_count": 83,
   "id": "d6218334",
   "metadata": {},
   "outputs": [
    {
     "data": {
      "text/plain": [
       "'Hola Mundo'"
      ]
     },
     "execution_count": 83,
     "metadata": {},
     "output_type": "execute_result"
    }
   ],
   "source": [
    "# Ejercicio 03\n",
    "f = lambda x, y: f\"{x} {y}\"\n",
    "f(\"Hola\", \"Mundo\")"
   ]
  },
  {
   "cell_type": "code",
   "execution_count": 84,
   "id": "ef3f5e76",
   "metadata": {},
   "outputs": [
    {
     "data": {
      "text/plain": [
       "'Hola, mi nomre es Ana y tengo 25 años'"
      ]
     },
     "execution_count": 84,
     "metadata": {},
     "output_type": "execute_result"
    }
   ],
   "source": [
    "# Ejercicio 04\n",
    "saludo_personalizado = lambda x, y: f\"Hola, mi nomre es {x} y tengo {y} años\"\n",
    "saludo_personalizado(\"Ana\", 25)"
   ]
  },
  {
   "cell_type": "code",
   "execution_count": 89,
   "id": "0deea0d7",
   "metadata": {},
   "outputs": [
    {
     "name": "stdout",
     "output_type": "stream",
     "text": [
      "[2, 4, 6, 8, 10, 12, 14]\n"
     ]
    }
   ],
   "source": [
    "# Ejercicio 05\n",
    "lista = [1, 2, 3, 4, 5, 6, 7]\n",
    "f = map(lambda x: x * 2, lista)\n",
    "print(list(f))"
   ]
  },
  {
   "cell_type": "code",
   "execution_count": 97,
   "id": "65640704",
   "metadata": {},
   "outputs": [
    {
     "name": "stdout",
     "output_type": "stream",
     "text": [
      "[1, 4, 9, 16, 25, 36, 49, 64, 81, 100, 121, 144]\n"
     ]
    }
   ],
   "source": [
    "# Ejercicio 06\n",
    "lista = [0.1, 0.2, 0.3, 0.4, 0.5, 0.6, 0.7, 0.8, 0.9, 1, 1.1, 1.2]\n",
    "lista = list(map(lambda x: int(x * 10), lista))\n",
    "lista_potencia2 = map(lambda x: x**2, lista)\n",
    "print(list(lista_potencia2))"
   ]
  },
  {
   "cell_type": "code",
   "execution_count": 100,
   "id": "c7ce14da",
   "metadata": {},
   "outputs": [
    {
     "name": "stdout",
     "output_type": "stream",
     "text": [
      "['SDF', 'WERTW', 'DFG', 'YUIOY']\n"
     ]
    }
   ],
   "source": [
    "# Ejercicio 07\n",
    "lista = [\"sdf\", \"wertw\", \"dfg\", \"yuioy\"]\n",
    "\n",
    "resultado = list(map(lambda x: x.upper(), lista))\n",
    "print(resultado)"
   ]
  },
  {
   "cell_type": "code",
   "execution_count": 101,
   "id": "18178bad",
   "metadata": {},
   "outputs": [
    {
     "name": "stdout",
     "output_type": "stream",
     "text": [
      "[3, 5, 3, 5]\n"
     ]
    }
   ],
   "source": [
    "# Ejercicio 08\n",
    "lista = [\"sdf\", \"wertw\", \"dfg\", \"yuioy\"]\n",
    "print(list(map(lambda x: len(x), lista)))"
   ]
  },
  {
   "cell_type": "code",
   "execution_count": 104,
   "id": "bec2f5a2",
   "metadata": {},
   "outputs": [
    {
     "name": "stdout",
     "output_type": "stream",
     "text": [
      "Número: 1\n",
      "Número: 2\n",
      "Número: 3\n",
      "Número: 4\n",
      "Número: 5\n",
      "Número: 6\n",
      "Número: 7\n",
      "Número: 10\n"
     ]
    }
   ],
   "source": [
    "# Ejercicio 09\n",
    "lista = [1, 2, 3, 4, 5, 6, 7, 10]\n",
    "resultado = list(map(lambda x: f\"Número: {x}\", lista))\n",
    "for i in resultado:\n",
    "    print(i)"
   ]
  },
  {
   "cell_type": "code",
   "execution_count": 114,
   "id": "6ba365fb",
   "metadata": {},
   "outputs": [
    {
     "name": "stdout",
     "output_type": "stream",
     "text": [
      "2\n",
      "4\n",
      "6\n",
      "8\n",
      "0\n",
      "10\n",
      "22\n",
      "2\n",
      "4\n",
      "42\n",
      "2334\n",
      "3456346\n"
     ]
    }
   ],
   "source": [
    "# Ejercicio 10\n",
    "lista = [1, 2, 3, 4, 5, 6, 7, 8, 9, 0, 10, 22, 2, 3, 3, 4, 42, 1, 2334, 3456346]\n",
    "list_filter_pairs = list(filter(lambda x: x % 2 == 0, lista))\n",
    "print(*list_filter_pairs, sep=\"\\n\")"
   ]
  },
  {
   "cell_type": "code",
   "execution_count": null,
   "id": "0f17daae",
   "metadata": {},
   "outputs": [],
   "source": []
  },
  {
   "cell_type": "code",
   "execution_count": 113,
   "id": "33ccad71",
   "metadata": {},
   "outputs": [
    {
     "name": "stdout",
     "output_type": "stream",
     "text": [
      "('Lucas', 23)\n",
      "('Juan', 100)\n",
      "('Pablo', 456)\n",
      "('Jesus', 2345)\n",
      "('Maria', 5678)\n",
      "('Gabriel', 32576)\n"
     ]
    }
   ],
   "source": [
    "# Ejercicio xx\n",
    "lista = [\n",
    "    (\"Gabriel\", 32576),\n",
    "    (\"Juan\", 100),\n",
    "    (\"Lucas\", 23),\n",
    "    (\"Pablo\", 456),\n",
    "    (\"Jesus\", 2345),\n",
    "    (\"Maria\", 5678),\n",
    "]\n",
    "list_order_ByYearsOld = list(sorted(lista, key=lambda x: x[1]))\n",
    "print(*list_order_ByYearsOld, sep=\"\\n\")"
   ]
  },
  {
   "cell_type": "markdown",
   "id": "189dc815",
   "metadata": {},
   "source": [
    "## 3.4. Alcance de variables\n"
   ]
  },
  {
   "cell_type": "markdown",
   "id": "49f704b8",
   "metadata": {},
   "source": [
    "### Básico\n"
   ]
  },
  {
   "cell_type": "code",
   "execution_count": 124,
   "id": "04ae21f8",
   "metadata": {},
   "outputs": [
    {
     "name": "stdout",
     "output_type": "stream",
     "text": [
      "12\n",
      "3.0\n"
     ]
    }
   ],
   "source": [
    "# Ejercicio 01\n",
    "x = 12\n",
    "\n",
    "\n",
    "def f():\n",
    "    x = 33\n",
    "    return x / 11\n",
    "\n",
    "\n",
    "print(x)\n",
    "print(f())"
   ]
  },
  {
   "cell_type": "code",
   "execution_count": 121,
   "id": "1321b946",
   "metadata": {},
   "outputs": [
    {
     "name": "stdout",
     "output_type": "stream",
     "text": [
      "23\n"
     ]
    }
   ],
   "source": [
    "# Ejercicio 02\n",
    "x = 12\n",
    "\n",
    "\n",
    "def f():\n",
    "    global x\n",
    "    x = 23\n",
    "    return x\n",
    "\n",
    "\n",
    "f()\n",
    "print(x)  # no es 23"
   ]
  },
  {
   "cell_type": "markdown",
   "id": "78361836",
   "metadata": {},
   "source": [
    "### Intermedio\n"
   ]
  },
  {
   "cell_type": "code",
   "execution_count": 135,
   "id": "5fb46f90",
   "metadata": {},
   "outputs": [
    {
     "data": {
      "text/plain": [
       "10000"
      ]
     },
     "execution_count": 135,
     "metadata": {},
     "output_type": "execute_result"
    }
   ],
   "source": [
    "# Ejercicio 01\n",
    "\n",
    "\n",
    "def funcion_principal(x):\n",
    "    def funcion_interior():\n",
    "        return x * 100\n",
    "\n",
    "    return funcion_interior\n",
    "\n",
    "\n",
    "funcion = funcion_principal(100)\n",
    "int(funcion())"
   ]
  },
  {
   "cell_type": "markdown",
   "id": "5eb9c01b",
   "metadata": {},
   "source": [
    "## 3.5. Argumentos por defecto y argumentos arbitrarios\n"
   ]
  },
  {
   "cell_type": "markdown",
   "id": "4d994b36",
   "metadata": {},
   "source": [
    "### Básico\n"
   ]
  },
  {
   "cell_type": "code",
   "execution_count": 136,
   "id": "f9ff31a8",
   "metadata": {},
   "outputs": [
    {
     "name": "stdout",
     "output_type": "stream",
     "text": [
      "123\n",
      "321\n"
     ]
    }
   ],
   "source": [
    "# Ejercicio 01\n",
    "def f(argumento=123):\n",
    "    return argumento\n",
    "\n",
    "\n",
    "print(f())\n",
    "print(f(argumento=321))"
   ]
  },
  {
   "cell_type": "code",
   "execution_count": 137,
   "id": "77a2790c",
   "metadata": {},
   "outputs": [
    {
     "name": "stdout",
     "output_type": "stream",
     "text": [
      "(1, 2, 3, 4, 5, 6, 7, 8, 9)\n"
     ]
    }
   ],
   "source": [
    "# Ejercicio 02\n",
    "def f(*args):\n",
    "    return args\n",
    "\n",
    "\n",
    "print(f(1, 2, 3, 4, 5, 6, 7, 8, 9))"
   ]
  },
  {
   "cell_type": "code",
   "execution_count": 148,
   "id": "3b4a9132",
   "metadata": {},
   "outputs": [
    {
     "name": "stdout",
     "output_type": "stream",
     "text": [
      "{'nombre': 'Gabriel', 'edad': 25, 'estatura': '170 cm'}\n"
     ]
    }
   ],
   "source": [
    "# Ejercicio 03\n",
    "def f(**kwargs):\n",
    "    return kwargs\n",
    "\n",
    "\n",
    "print(f(nombre=\"Gabriel\", edad=25, estatura=\"170 cm\"))"
   ]
  },
  {
   "cell_type": "markdown",
   "id": "298be439",
   "metadata": {},
   "source": [
    "## 3.6. Otros\n"
   ]
  },
  {
   "cell_type": "markdown",
   "id": "8c0ea923",
   "metadata": {},
   "source": [
    "### 3.6.1. Funciones ZIP\n"
   ]
  },
  {
   "cell_type": "code",
   "execution_count": 149,
   "id": "fcd5e9c5",
   "metadata": {},
   "outputs": [
    {
     "data": {
      "text/plain": [
       "([1, 2, 3], ['a', 'b', 'c'])"
      ]
     },
     "execution_count": 149,
     "metadata": {},
     "output_type": "execute_result"
    }
   ],
   "source": [
    "# Problema 01\n",
    "\n",
    "\n",
    "def combine_lists(lista1, lista2):\n",
    "    return list(zip(lista1, lista2))\n",
    "\n",
    "\n",
    "numeros = [1, 2, 3]\n",
    "letras = [\"A\", \"B\", \"C\"]\n",
    "\n",
    "combine_lists(numeros, letras)\n",
    "\n",
    "\n",
    "# Problema 2\n",
    "def unzip_lists(list_tuplas):\n",
    "    return tuple([list(tupla) for tupla in zip(*list_tuplas)])\n",
    "\n",
    "\n",
    "list_tuplas = [(1, \"a\"), (2, \"b\"), (3, \"c\")]\n",
    "unzip_lists(list_tuplas)"
   ]
  },
  {
   "cell_type": "code",
   "execution_count": 172,
   "id": "2023413e",
   "metadata": {},
   "outputs": [
    {
     "data": {
      "text/plain": [
       "[211, 520, 1140, 198]"
      ]
     },
     "execution_count": 172,
     "metadata": {},
     "output_type": "execute_result"
    }
   ],
   "source": [
    "# Ejercicio 03\n",
    "# def sumCorrespondingElements(*args):\n",
    "#     return [sum(tupla) for tupla in list(zip(*args))]\n",
    "def sumCorrespondingElements(*args):\n",
    "    return list(map(sum, zip(*args)))\n",
    "\n",
    "\n",
    "sumCorrespondingElements(\n",
    "    [23, 34, 45, 56], [56, 232, 78, 90], [120, 20, 30, 40], [12, 234, 987, 12]\n",
    ")"
   ]
  },
  {
   "cell_type": "markdown",
   "id": "a8f3eb8e",
   "metadata": {},
   "source": [
    "### 3.6.2. Funciones Lambda\n"
   ]
  },
  {
   "cell_type": "code",
   "execution_count": 178,
   "id": "8ffa5d77",
   "metadata": {},
   "outputs": [
    {
     "data": {
      "text/plain": [
       "[125, 216, 343, 512, 729, 1000, 1331, 1728, 2197, 2744]"
      ]
     },
     "execution_count": 178,
     "metadata": {},
     "output_type": "execute_result"
    }
   ],
   "source": [
    "# Ejercicio 01\n",
    "def cubes_greater_than_100(lista):\n",
    "    return list(filter(lambda x: x > 100, map(lambda x: x**3, lista)))\n",
    "\n",
    "\n",
    "lista = [1, 2, 3, 4, 5, 6, 7, 8, 9, 10, 11, 12, 13, 14]\n",
    "cubes_greater_than_100(lista)"
   ]
  },
  {
   "cell_type": "markdown",
   "id": "1d672724",
   "metadata": {},
   "source": [
    "# 4. Control de flujo\n"
   ]
  },
  {
   "cell_type": "markdown",
   "id": "de446531",
   "metadata": {},
   "source": [
    "## 4.1. Estructuras de repitición\n"
   ]
  },
  {
   "cell_type": "markdown",
   "id": "98726b47",
   "metadata": {},
   "source": [
    "### Básico\n"
   ]
  },
  {
   "cell_type": "code",
   "execution_count": 1,
   "id": "8a6db446",
   "metadata": {},
   "outputs": [
    {
     "name": "stdout",
     "output_type": "stream",
     "text": [
      "1\n",
      "2\n",
      "3\n",
      "4\n",
      "5\n",
      "6\n",
      "7\n",
      "8\n",
      "9\n",
      "10\n"
     ]
    }
   ],
   "source": [
    "# Ejercicio 01\n",
    "for i in range(10):\n",
    "    print(i + 1)"
   ]
  },
  {
   "cell_type": "code",
   "execution_count": 2,
   "id": "52dcd03a",
   "metadata": {},
   "outputs": [
    {
     "name": "stdout",
     "output_type": "stream",
     "text": [
      "10\n",
      "9\n",
      "8\n",
      "7\n",
      "6\n",
      "5\n",
      "4\n",
      "3\n",
      "2\n",
      "1\n"
     ]
    }
   ],
   "source": [
    "# Ejercicio 02\n",
    "c = 11\n",
    "while c > 1:\n",
    "    print(c - 1)\n",
    "    c -= 1"
   ]
  },
  {
   "cell_type": "code",
   "execution_count": 3,
   "id": "c490276c",
   "metadata": {},
   "outputs": [
    {
     "name": "stdout",
     "output_type": "stream",
     "text": [
      "5050\n"
     ]
    }
   ],
   "source": [
    "# Ejercicio 03\n",
    "suma = 0\n",
    "for i in range(101):\n",
    "    suma += i\n",
    "print(suma)"
   ]
  },
  {
   "cell_type": "markdown",
   "id": "802a1dfd",
   "metadata": {},
   "source": [
    "### 4.2. Control de flujo dentro de bucles\n"
   ]
  },
  {
   "cell_type": "markdown",
   "id": "1b62fc35",
   "metadata": {},
   "source": [
    "#### Básico\n"
   ]
  },
  {
   "cell_type": "code",
   "execution_count": 5,
   "id": "c3e4109f",
   "metadata": {},
   "outputs": [
    {
     "name": "stdout",
     "output_type": "stream",
     "text": [
      "index: 10, valor: 123\n"
     ]
    }
   ],
   "source": [
    "# Ejercicio 01\n",
    "lista = [1, 2, 3, 4, 5, 12, 34, 45, 56, 67, 123, 234, 5456, 567, 789]\n",
    "numero = 123\n",
    "for index, valor in enumerate(lista):\n",
    "    if valor == numero:\n",
    "        print(f\"index: {index}, valor: {numero}\")\n",
    "        break\n",
    "    else:\n",
    "        continue"
   ]
  },
  {
   "cell_type": "code",
   "execution_count": 6,
   "id": "d4259d89",
   "metadata": {},
   "outputs": [
    {
     "name": "stdout",
     "output_type": "stream",
     "text": [
      "1\n",
      "2\n",
      "3\n",
      "4\n",
      "6\n",
      "7\n",
      "8\n",
      "9\n",
      "10\n"
     ]
    }
   ],
   "source": [
    "# Ejercicio 02\n",
    "for i in range(10):\n",
    "    if i == 4:\n",
    "        continue\n",
    "    else:\n",
    "        print(i + 1)"
   ]
  },
  {
   "cell_type": "code",
   "execution_count": 7,
   "id": "d6e21e26",
   "metadata": {},
   "outputs": [],
   "source": [
    "# Ejercicio 03\n",
    "lista = [1, 2, 3, 4, 5, 12, 34, 45, 56, 67, 123, 234, 5456, 567, 789]\n",
    "for i in lista:\n",
    "    pass"
   ]
  },
  {
   "cell_type": "markdown",
   "id": "8cfc54c0",
   "metadata": {},
   "source": [
    "## 4.3. Comprensión de listas\n"
   ]
  },
  {
   "cell_type": "markdown",
   "id": "cfa3d10a",
   "metadata": {},
   "source": [
    "### Básico\n"
   ]
  },
  {
   "cell_type": "code",
   "execution_count": 8,
   "id": "882ed498",
   "metadata": {},
   "outputs": [
    {
     "name": "stdout",
     "output_type": "stream",
     "text": [
      "[1, 4, 9, 16, 25, 36, 49, 64, 81, 100]\n"
     ]
    }
   ],
   "source": [
    "# Ejercicio 01\n",
    "cuadrados = [(i + 1) ** 2 for i in range(10)]\n",
    "print(cuadrados)"
   ]
  },
  {
   "cell_type": "code",
   "execution_count": 13,
   "id": "c3a32840",
   "metadata": {},
   "outputs": [
    {
     "name": "stdout",
     "output_type": "stream",
     "text": [
      "[2, 4, 6, 8, 12, 34, 56, 78, 234, 456, 678, 0]\n"
     ]
    }
   ],
   "source": [
    "# Ejercicio 02\n",
    "lista = [\n",
    "    1,\n",
    "    2,\n",
    "    3,\n",
    "    4,\n",
    "    5,\n",
    "    6,\n",
    "    7,\n",
    "    8,\n",
    "    9,\n",
    "    12,\n",
    "    23,\n",
    "    34,\n",
    "    45,\n",
    "    56,\n",
    "    67,\n",
    "    78,\n",
    "    89,\n",
    "    123,\n",
    "    234,\n",
    "    456,\n",
    "    567,\n",
    "    678,\n",
    "    0,\n",
    "]\n",
    "pares = [i for i in lista if i % 2 == 0]\n",
    "print(pares)"
   ]
  },
  {
   "cell_type": "code",
   "execution_count": 16,
   "id": "303fbd77",
   "metadata": {},
   "outputs": [
    {
     "name": "stdout",
     "output_type": "stream",
     "text": [
      "['ASDFSDF', 'DFGERTY', 'HJKYUO', 'QWEQW', 'XCVDRFH', 'UOKUM YIJU']\n"
     ]
    }
   ],
   "source": [
    "# Ejercicio 03\n",
    "lista = [\"asdfsdf\", \"dfgerty\", \"hjkyuo\", \"qweqw\", \"xcvdrfh\", \"uokum yiju\"]\n",
    "lista_mayuscula = [i.upper() for i in lista]\n",
    "print(lista_mayuscula)"
   ]
  },
  {
   "cell_type": "markdown",
   "id": "c5386a37",
   "metadata": {},
   "source": [
    "### Intermedio\n"
   ]
  },
  {
   "cell_type": "code",
   "execution_count": 18,
   "id": "230e0dea",
   "metadata": {},
   "outputs": [
    {
     "name": "stdout",
     "output_type": "stream",
     "text": [
      "[(1, 1), (2, 4), (3, 9), (4, 16), (5, 25)]\n"
     ]
    }
   ],
   "source": [
    "# Ejercicio 01\n",
    "tupla_cuadrados = [tuple([i + 1, (i + 1) ** 2]) for i in range(5)]\n",
    "print(tupla_cuadrados)"
   ]
  },
  {
   "cell_type": "code",
   "execution_count": 21,
   "id": "79b6ac7f",
   "metadata": {},
   "outputs": [
    {
     "name": "stdout",
     "output_type": "stream",
     "text": [
      "[1, 9, 25, 49, 81, 121, 169, 225, 289, 361, 441, 529, 625, 729, 841, 961, 1089, 1225, 1369, 1521, 1681, 1849, 2025, 2209, 2401, 2601, 2809, 3025, 3249, 3481, 3721, 3969, 4225, 4489, 4761, 5041, 5329, 5625, 5929, 6241, 6561, 6889, 7225, 7569, 7921, 8281, 8649, 9025, 9409, 9801, 10201, 10609, 11025, 11449, 11881, 12321, 12769, 13225, 13689, 14161, 14641, 15129]\n"
     ]
    }
   ],
   "source": [
    "# Ejercicio 02\n",
    "impares_cuadrados = [i**2 for i in [i + 1 for i in range(123)] if i % 2 != 0]\n",
    "print(impares_cuadrados)"
   ]
  },
  {
   "cell_type": "code",
   "execution_count": 39,
   "id": "882f5165",
   "metadata": {},
   "outputs": [
    {
     "name": "stdout",
     "output_type": "stream",
     "text": [
      "['10-01-2024', '11-01-2024', '12-01-2024', '13-01-2024', '14-01-2024']\n"
     ]
    }
   ],
   "source": [
    "# Ejercicio 03\n",
    "def conv_formato_fecha(date):\n",
    "    \"\"\"input: \"YYYY-MM-DD\"\n",
    "    output: \"DD-MM-YYYY\" \"\"\"\n",
    "    return \"-\".join(reversed(date.split(\"-\")))\n",
    "\n",
    "\n",
    "lista = [\"2024-01-10\", \"2024-01-11\", \"2024-01-12\", \"2024-01-13\", \"2024-01-14\"]\n",
    "formateado = [conv_formato_fecha(i) for i in lista]\n",
    "print(formateado)"
   ]
  },
  {
   "cell_type": "code",
   "execution_count": 42,
   "id": "0a75a851",
   "metadata": {},
   "outputs": [
    {
     "name": "stdout",
     "output_type": "stream",
     "text": [
      "[1, 3, 5, 7, 9, 11, 13, 15, 17, 19, 21, 23, 25, 27, 29, 31, 33, 35, 37, 39, 41, 43, 45, 47, 49]\n"
     ]
    }
   ],
   "source": [
    "# Ejercicio 04\n",
    "lista = [(i + 1) for i in range(50)]\n",
    "print([i for i in lista if i % 2 != 0])"
   ]
  },
  {
   "cell_type": "code",
   "execution_count": 43,
   "id": "d408a9e4",
   "metadata": {},
   "outputs": [
    {
     "name": "stdout",
     "output_type": "stream",
     "text": [
      "[0, 23, 68, 135, 224, 30, 42, 56, 72]\n"
     ]
    }
   ],
   "source": [
    "# Ejercicio 05\n",
    "lista = [12, 23, 34, 45, 56, 6, 7, 8, 9]\n",
    "print([valor * index for index, valor in enumerate(lista)])"
   ]
  },
  {
   "cell_type": "code",
   "execution_count": 49,
   "id": "9ac5d747",
   "metadata": {},
   "outputs": [
    {
     "name": "stdout",
     "output_type": "stream",
     "text": [
      "['ana', 'arbol']\n"
     ]
    }
   ],
   "source": [
    "# Ejercicio 06\n",
    "lista = [\n",
    "    \"ana\",\n",
    "    \"carrito\",\n",
    "    \"luna\",\n",
    "    \"arbol\",\n",
    "    \"niño\",\n",
    "    \"huracan\",\n",
    "    \"juanes\",\n",
    "    \"jueves\",\n",
    "    \"julia\",\n",
    "]\n",
    "print([i for i in lista if i[0] == \"a\"])"
   ]
  },
  {
   "cell_type": "markdown",
   "id": "4a5ae4f9",
   "metadata": {},
   "source": [
    "# 5. Manejo de archivos\n"
   ]
  },
  {
   "cell_type": "markdown",
   "id": "ec652e77",
   "metadata": {},
   "source": [
    "## 5.1. Lectura y escritura de archivos\n"
   ]
  },
  {
   "cell_type": "markdown",
   "id": "e9a7289e",
   "metadata": {},
   "source": [
    "### Básico\n"
   ]
  },
  {
   "cell_type": "code",
   "execution_count": 76,
   "id": "25d82420",
   "metadata": {},
   "outputs": [],
   "source": [
    "# Ejercicio 01\n",
    "with open(\"eliminame.txt\", \"w\") as texto:\n",
    "    texto.write(\"peras, manzanas, fresas, papayas, melones\\n\")\n",
    "    texto.write(\"cebollas, culantros, apios, jengibres, zapallos\")"
   ]
  },
  {
   "cell_type": "code",
   "execution_count": 56,
   "id": "d05a045a",
   "metadata": {},
   "outputs": [
    {
     "name": "stdout",
     "output_type": "stream",
     "text": [
      "peras, manzanas, fresas, papayas, melones\n",
      "\n",
      "cebollas, culantros, apios, jengibres, zapallos\n"
     ]
    }
   ],
   "source": [
    "# Ejercicio 02\n",
    "with open(\"eliminame.txt\", \"r\") as texto:\n",
    "    for linea in texto:\n",
    "        print(linea)"
   ]
  },
  {
   "cell_type": "code",
   "execution_count": 63,
   "id": "6deb9d34",
   "metadata": {},
   "outputs": [],
   "source": [
    "# Ejercicio 03\n",
    "mensaje = bytes(b\"1010110101010100101\")\n",
    "with open(\"binarioEliminame.bin\", \"wb\") as texto:\n",
    "    texto.write(mensaje)"
   ]
  },
  {
   "cell_type": "code",
   "execution_count": 77,
   "id": "dfb5d7a2",
   "metadata": {},
   "outputs": [
    {
     "name": "stdout",
     "output_type": "stream",
     "text": [
      "b'1010110101010100101'\n"
     ]
    }
   ],
   "source": [
    "# Ejercicio 04\n",
    "with open(\"binarioEliminame.bin\", \"rb\") as b:\n",
    "    lectura = b.read()\n",
    "print(lectura)"
   ]
  },
  {
   "cell_type": "code",
   "execution_count": 71,
   "id": "e6852fb0",
   "metadata": {},
   "outputs": [],
   "source": [
    "# Ejercicio 05\n",
    "with open(\"eliminame.csv\", \"w\") as doc:\n",
    "    doc.write(\"Nombre, Edad, Ciudad\\n\")\n",
    "    doc.write(\"Gabriel, 25, Pangoa\\n\")\n",
    "    doc.write(\"Mari, 27, Pangoa\\n\")\n",
    "    doc.write(\"Milena, 21, Mazamary\\n\")"
   ]
  },
  {
   "cell_type": "code",
   "execution_count": 81,
   "id": "2db0a8f9",
   "metadata": {},
   "outputs": [
    {
     "name": "stdout",
     "output_type": "stream",
     "text": [
      "Nombre, Edad, Ciudad\n",
      "\n",
      "Gabriel, 25, Pangoa\n",
      "\n",
      "Mari, 27, Pangoa\n",
      "\n",
      "Milena, 21, Mazamary\n",
      "\n"
     ]
    }
   ],
   "source": [
    "# Ejercicio 06\n",
    "with open(\"eliminame.csv\", \"r\") as archivo:\n",
    "    lineas = archivo.readlines()\n",
    "    for linea in lineas:\n",
    "        print(linea)"
   ]
  },
  {
   "cell_type": "markdown",
   "id": "f8f76494",
   "metadata": {},
   "source": [
    "## 5.2. Archivos con pathlib\n"
   ]
  },
  {
   "cell_type": "code",
   "execution_count": 10,
   "id": "91509e01",
   "metadata": {},
   "outputs": [
    {
     "data": {
      "text/plain": [
       "11"
      ]
     },
     "execution_count": 10,
     "metadata": {},
     "output_type": "execute_result"
    }
   ],
   "source": [
    "# Ejercicio 01\n",
    "from pathlib import Path\n",
    "\n",
    "path = Path(\"C://Users//PC SITOS//Documents//_AUTODIDACTA//archivotemporal.txt\")\n",
    "path.write_text(\"Hola, mundo\")"
   ]
  },
  {
   "cell_type": "code",
   "execution_count": 14,
   "id": "0bb73840",
   "metadata": {},
   "outputs": [
    {
     "name": "stdout",
     "output_type": "stream",
     "text": [
      "El archivo existe en C:\\Users\\PC SITOS\\Documents\\_AUTODIDACTA\n"
     ]
    }
   ],
   "source": [
    "# Ejercicio 02\n",
    "if path.exists() == True:\n",
    "    print(f\"El archivo existe en {path.parent}\")\n",
    "else:\n",
    "    print(f\"El archivo no existe en {path.parent}\")"
   ]
  },
  {
   "cell_type": "code",
   "execution_count": 15,
   "id": "97176e8b",
   "metadata": {},
   "outputs": [
    {
     "name": "stdout",
     "output_type": "stream",
     "text": [
      "Hola, mundo\n"
     ]
    }
   ],
   "source": [
    "# Ejercicio 03\n",
    "contenido = path.read_text()\n",
    "print(contenido)"
   ]
  },
  {
   "cell_type": "code",
   "execution_count": 18,
   "id": "bccf6bdc",
   "metadata": {},
   "outputs": [
    {
     "name": "stdout",
     "output_type": "stream",
     "text": [
      "imagen\n",
      ".png\n"
     ]
    }
   ],
   "source": [
    "# Ejercicio 04\n",
    "path = Path(\"imagen.png\")\n",
    "print(path.stem)\n",
    "print(path.suffix)"
   ]
  },
  {
   "cell_type": "code",
   "execution_count": 19,
   "id": "809bf7eb",
   "metadata": {},
   "outputs": [
    {
     "name": "stdout",
     "output_type": "stream",
     "text": [
      ".ipynb_checkpoints\n",
      "ANOVA_Un_Factor.ipynb\n",
      "Aplicaciones_graficas_con_python\n",
      "aprendiendo sqlite\n",
      "aprendiendo_javascript\n",
      "archivotemporal.txt\n",
      "Autoencoder\n",
      "binarioEliminame.bin\n",
      "Confección_de_ropa.ipynb\n",
      "cosecha_cafe_personales.ipynb\n",
      "Curso python.ipynb\n",
      "doc JupiterNotebook\n",
      "documentos de mysql\n",
      "Ejercicios_python_gpt.ipynb\n",
      "eliminame.csv\n",
      "eliminame.txt\n",
      "Experimento\n",
      "Generador de imagenes\n",
      "GMM arellano y bond\n",
      "gradiente_descendente.ipynb\n",
      "imagen.png\n",
      "Jesus Bobadilla\n",
      "mis_paginas_web\n",
      "PROYECTOS\n",
      "Python_youtube_video_downloader-master\n",
      "random_walk.ipynb\n",
      "series temporales_ENEI\n",
      "Telefonos.db\n",
      "Untitled.ipynb\n",
      "Untitled0.ipynb\n"
     ]
    }
   ],
   "source": [
    "# Ejercicio 05\n",
    "path = Path()\n",
    "for item in path.iterdir():\n",
    "    print(item)"
   ]
  },
  {
   "cell_type": "code",
   "execution_count": 20,
   "id": "c5e36d42",
   "metadata": {},
   "outputs": [
    {
     "name": "stdout",
     "output_type": "stream",
     "text": [
      "archivotemporal.txt\n",
      "eliminame.txt\n"
     ]
    }
   ],
   "source": [
    "# Ejercicio 06\n",
    "path = Path()\n",
    "for item in path.iterdir():\n",
    "    if item.suffix == \".txt\":\n",
    "        print(item)\n",
    "    else:\n",
    "        continue"
   ]
  },
  {
   "cell_type": "code",
   "execution_count": 24,
   "id": "ffc0e99a",
   "metadata": {},
   "outputs": [
    {
     "name": "stdout",
     "output_type": "stream",
     "text": [
      "Archivo original.txt copiado con exito en backup\\original.txt\n"
     ]
    }
   ],
   "source": [
    "# Ejercicio 07"
   ]
  },
  {
   "cell_type": "markdown",
   "id": "72cb3992",
   "metadata": {},
   "source": [
    "# 6. Manejo de excepciones\n"
   ]
  },
  {
   "cell_type": "markdown",
   "id": "68bee961",
   "metadata": {},
   "source": [
    "### Básico\n"
   ]
  },
  {
   "cell_type": "code",
   "execution_count": 1,
   "id": "ac27a5b0",
   "metadata": {},
   "outputs": [],
   "source": [
    "# Ejercicio 01\n",
    "def dividir(a, b):\n",
    "    try:\n",
    "        return a / b\n",
    "    except ZeroDivisionError:\n",
    "        print(\"No se puede dividir entre cero.\")\n",
    "        return None\n",
    "    # Se puede añadir la excepción ValueError"
   ]
  },
  {
   "cell_type": "code",
   "execution_count": 4,
   "id": "11f98344",
   "metadata": {},
   "outputs": [
    {
     "name": "stdout",
     "output_type": "stream",
     "text": [
      "El archivo no fue encontrado.\n"
     ]
    }
   ],
   "source": [
    "# Ejercicio 02\n",
    "from pathlib import Path\n",
    "\n",
    "path = Path(\"rutaincorrecto.txt\")\n",
    "try:\n",
    "    contenido = path.read_text()\n",
    "except FileNotFoundError:\n",
    "    print(\"El archivo no fue encontrado.\")\n",
    "else:\n",
    "    print(contenido)"
   ]
  },
  {
   "cell_type": "code",
   "execution_count": 7,
   "id": "f8d1b289",
   "metadata": {},
   "outputs": [
    {
     "name": "stdout",
     "output_type": "stream",
     "text": [
      "Error: Valor incorrecto.\n"
     ]
    }
   ],
   "source": [
    "# Ejercicio 03\n",
    "def convertir_to_int(valor=None):\n",
    "    try:\n",
    "        if valor is None:\n",
    "            raise TypeError(\"¡No se ha ingresado ningun argumento!\")\n",
    "        return int(valor)\n",
    "    except ValueError:\n",
    "        print(\"Error: Valor incorrecto.\")\n",
    "    except TypeError as e:\n",
    "        print(f\"Error: {e}\")\n",
    "    except Exception as e:\n",
    "        print(f\"Error: {e}\")\n",
    "\n",
    "\n",
    "convertir_to_int(\"sa\")"
   ]
  },
  {
   "cell_type": "markdown",
   "id": "8ca732a4",
   "metadata": {},
   "source": [
    "# 7. Programación orientada a objetos\n"
   ]
  },
  {
   "cell_type": "markdown",
   "id": "1ad4d9aa",
   "metadata": {},
   "source": [
    "## 7.1. Definición de clases y objetos\n"
   ]
  },
  {
   "cell_type": "markdown",
   "id": "f49a52c2",
   "metadata": {},
   "source": [
    "### Básico\n"
   ]
  },
  {
   "cell_type": "code",
   "execution_count": 14,
   "id": "163cc61f",
   "metadata": {},
   "outputs": [
    {
     "data": {
      "text/plain": [
       "2"
      ]
     },
     "execution_count": 14,
     "metadata": {},
     "output_type": "execute_result"
    }
   ],
   "source": [
    "# Ejercicio 01\n",
    "class Libro:\n",
    "    total_libros = 0\n",
    "\n",
    "    def __init__(self):\n",
    "        Libro.total_libros += 1\n",
    "\n",
    "\n",
    "libro01 = Libro()\n",
    "libro01 = Libro()\n",
    "Libro.total_libros"
   ]
  },
  {
   "cell_type": "code",
   "execution_count": 17,
   "id": "93f335e1",
   "metadata": {},
   "outputs": [
    {
     "name": "stdout",
     "output_type": "stream",
     "text": [
      "104\n"
     ]
    },
    {
     "data": {
      "text/plain": [
       "42"
      ]
     },
     "execution_count": 17,
     "metadata": {},
     "output_type": "execute_result"
    }
   ],
   "source": [
    "# Ejercicio 02\n",
    "class Rentagulo:\n",
    "    def __init__(self, base, altura):\n",
    "        self.base = base\n",
    "        self.altura = altura\n",
    "\n",
    "    def calcular_area(self):\n",
    "        return self.base * self.altura\n",
    "\n",
    "    def calcular_perimetro(self):\n",
    "        return 2 * (self.base + self.altura)\n",
    "\n",
    "\n",
    "rectangulo = Rentagulo(13, 8)\n",
    "print(rectangulo.calcular_area())\n",
    "rectangulo.calcular_perimetro()"
   ]
  },
  {
   "cell_type": "markdown",
   "id": "402d7be8",
   "metadata": {},
   "source": [
    "## 7.2. Atributos y métodos de clase\n"
   ]
  },
  {
   "cell_type": "markdown",
   "id": "387b6c4f",
   "metadata": {},
   "source": [
    "### Básico\n"
   ]
  },
  {
   "cell_type": "code",
   "execution_count": 18,
   "id": "29ca7c3b",
   "metadata": {},
   "outputs": [
    {
     "data": {
      "text/plain": [
       "3"
      ]
     },
     "execution_count": 18,
     "metadata": {},
     "output_type": "execute_result"
    }
   ],
   "source": [
    "# Ejercicio 01\n",
    "class Vehiculo:\n",
    "    cantidad_vehiculos = 0\n",
    "\n",
    "    def __init__(self):\n",
    "        Vehiculo.cantidad_vehiculos += 1\n",
    "\n",
    "\n",
    "vehiculo_A = Vehiculo()\n",
    "vehiculo_B = Vehiculo()\n",
    "vehiculo_C = Vehiculo()\n",
    "Vehiculo.cantidad_vehiculos"
   ]
  },
  {
   "cell_type": "code",
   "execution_count": 21,
   "id": "33d7a1c9",
   "metadata": {},
   "outputs": [
    {
     "data": {
      "text/plain": [
       "0.03"
      ]
     },
     "execution_count": 21,
     "metadata": {},
     "output_type": "execute_result"
    }
   ],
   "source": [
    "# Ejercicio 02\n",
    "class CuentaBancaria:\n",
    "    tasa_interes = 0.02\n",
    "\n",
    "    def actualizar_tasa(tasa):\n",
    "        CuentaBancaria.tasa_interes = tasa\n",
    "\n",
    "\n",
    "micuenta = CuentaBancaria()\n",
    "micuenta.tasa_interes\n",
    "CuentaBancaria.actualizar_tasa(0.03)\n",
    "micuenta.tasa_interes"
   ]
  },
  {
   "cell_type": "code",
   "execution_count": 27,
   "id": "608e9be6",
   "metadata": {},
   "outputs": [
    {
     "name": "stdout",
     "output_type": "stream",
     "text": [
      "mendezperez\n",
      "gmail.com\n"
     ]
    }
   ],
   "source": [
    "# Ejercicio 03\n",
    "class Usuario:\n",
    "    @classmethod\n",
    "    def desde_correo(cls, direccion_correo):\n",
    "        nombre, dominio = direccion_correo.split(\"@\")\n",
    "        usuario = cls()\n",
    "        usuario.nombre = nombre\n",
    "        usuario.dominio = dominio\n",
    "        return usuario\n",
    "\n",
    "\n",
    "miusuario = Usuario.desde_correo(\"mendezperez@gmail.com\")\n",
    "print(miusuario.nombre)\n",
    "print(miusuario.dominio)"
   ]
  },
  {
   "cell_type": "code",
   "execution_count": 32,
   "id": "4c644016",
   "metadata": {},
   "outputs": [
    {
     "name": "stdout",
     "output_type": "stream",
     "text": [
      "juan\n",
      "petroni\n",
      "SalvadoreñosSAC\n"
     ]
    }
   ],
   "source": [
    "# Ejercicio 04\n",
    "class Empleado:\n",
    "    @classmethod\n",
    "    def desde_identificador(cls, correo_institucional):\n",
    "        nombre, apellido = correo_institucional.split(\"@\")[0].split(\"-\")\n",
    "        empresa = correo_institucional.split(\"@\")[1].split(\".\")[0]\n",
    "        empleado = cls()\n",
    "        empleado.nombre = nombre\n",
    "        empleado.apellido = apellido\n",
    "        empleado.empresa = empresa\n",
    "        return empleado\n",
    "\n",
    "\n",
    "id_01 = \"juan-petroni@SalvadoreñosSAC.com\"\n",
    "empleado = Empleado.desde_identificador(id_01)\n",
    "print(empleado.nombre)\n",
    "print(empleado.apellido)\n",
    "print(empleado.empresa)"
   ]
  },
  {
   "cell_type": "code",
   "execution_count": 35,
   "id": "6754d76d",
   "metadata": {},
   "outputs": [
    {
     "data": {
      "text/plain": [
       "2"
      ]
     },
     "execution_count": 35,
     "metadata": {},
     "output_type": "execute_result"
    }
   ],
   "source": [
    "# Ejercicio 05\n",
    "class Mascota:\n",
    "    numero_mascotas = 0\n",
    "\n",
    "    def __init__(self):\n",
    "        Mascota.numero_mascotas += 1\n",
    "\n",
    "\n",
    "mascota_A = Mascota()\n",
    "mascota_B = Mascota()\n",
    "\n",
    "Mascota.numero_mascotas"
   ]
  },
  {
   "cell_type": "code",
   "execution_count": 38,
   "id": "dceedf11",
   "metadata": {},
   "outputs": [
    {
     "name": "stdout",
     "output_type": "stream",
     "text": [
      "Dramaturgo\n",
      "Dramaturgo\n"
     ]
    }
   ],
   "source": [
    "# Ejercicio 06\n",
    "class Libro:\n",
    "    genero = \"Dramaturgo\"\n",
    "\n",
    "    @classmethod\n",
    "    def mostrar_genero(cls):\n",
    "        print(cls.genero)\n",
    "\n",
    "\n",
    "libro_A = Libro()\n",
    "libro_B = Libro()\n",
    "libro_A.mostrar_genero()\n",
    "libro_B.mostrar_genero()"
   ]
  },
  {
   "cell_type": "markdown",
   "id": "797b1357",
   "metadata": {},
   "source": [
    "## 7.3. Herencia y polimorfismo\n"
   ]
  },
  {
   "cell_type": "markdown",
   "id": "e82923c0",
   "metadata": {},
   "source": [
    "### Básico\n"
   ]
  },
  {
   "cell_type": "code",
   "execution_count": 4,
   "id": "518536bd",
   "metadata": {},
   "outputs": [
    {
     "name": "stdout",
     "output_type": "stream",
     "text": [
      "Marca: Toyou, Modelo: 123x\n",
      "Marca: Trek, Modelo: 56756x, Tipo de frenos: Disco hidráulico\n"
     ]
    }
   ],
   "source": [
    "# Ejercicio 01\n",
    "class Vehiculo:\n",
    "    def __init__(self, marca, modelo):\n",
    "        self.marca = marca\n",
    "        self.modelo = modelo\n",
    "\n",
    "    def mostrar_info(self):\n",
    "        return f\"Marca: {self.marca}, Modelo: {self.modelo}\"\n",
    "\n",
    "\n",
    "class Bicicleta(Vehiculo):\n",
    "    def __init__(self, marca, modelo, tipo_frenos):\n",
    "        super().__init__(marca, modelo)\n",
    "        self.tipo_frenos = tipo_frenos\n",
    "\n",
    "    def mostrar_info(self):\n",
    "        return f\"Marca: {self.marca}, Modelo: {self.modelo}, Tipo de frenos: {self.tipo_frenos}\"\n",
    "\n",
    "\n",
    "vehiculo01 = Vehiculo(\"Toyou\", \"123x\")\n",
    "print(vehiculo01.mostrar_info())\n",
    "mi_bicicleta = Bicicleta(\"Trek\", \"56756x\", \"Disco hidráulico\")\n",
    "print(mi_bicicleta.mostrar_info())"
   ]
  },
  {
   "cell_type": "code",
   "execution_count": 47,
   "id": "9dbbe82c",
   "metadata": {},
   "outputs": [
    {
     "name": "stdout",
     "output_type": "stream",
     "text": [
      "guau! guau!\n",
      "miau miau!\n"
     ]
    }
   ],
   "source": [
    "# Ejercicio 02\n",
    "class Animal:\n",
    "    def hacer_sonido(self):\n",
    "        pass\n",
    "\n",
    "\n",
    "class Perro(Animal):\n",
    "    def hacer_sonido(self):\n",
    "        return \"guau! guau!\"\n",
    "\n",
    "\n",
    "class Gato(Animal):\n",
    "    def hacer_sonido(self):\n",
    "        return \"miau miau!\"\n",
    "\n",
    "\n",
    "miperro = Perro()\n",
    "migato = Gato()\n",
    "\n",
    "print(miperro.hacer_sonido())\n",
    "print(migato.hacer_sonido())"
   ]
  },
  {
   "cell_type": "code",
   "execution_count": 6,
   "id": "fcdce88d",
   "metadata": {},
   "outputs": [
    {
     "name": "stdout",
     "output_type": "stream",
     "text": [
      "Dibuja un circulo.\n",
      "Dibuja un cuadrado.\n"
     ]
    }
   ],
   "source": [
    "# Ejercicio 03\n",
    "class Forma:\n",
    "    def dibujar(self):\n",
    "        return \"Dibuja una forma genérica.\"\n",
    "\n",
    "\n",
    "class Circulo(Forma):\n",
    "    def dibujar(self):\n",
    "        return \"Dibuja un circulo.\"\n",
    "\n",
    "\n",
    "class Cuadrado(Forma):\n",
    "    def dibujar(self):\n",
    "        return \"Dibuja un cuadrado.\"\n",
    "\n",
    "\n",
    "circulo = Circulo()\n",
    "cuadrado = Cuadrado()\n",
    "formas = [circulo, cuadrado]\n",
    "for i in formas:\n",
    "    print(i.dibujar())"
   ]
  },
  {
   "cell_type": "markdown",
   "id": "c6dca039",
   "metadata": {},
   "source": [
    "## 7.4 Encapsulamiento y métodos especiales\n"
   ]
  },
  {
   "cell_type": "markdown",
   "id": "f2bf5069",
   "metadata": {},
   "source": [
    "### Básico\n"
   ]
  },
  {
   "cell_type": "code",
   "execution_count": 15,
   "id": "49f3cf11",
   "metadata": {},
   "outputs": [
    {
     "name": "stdout",
     "output_type": "stream",
     "text": [
      "Juan 20\n",
      "Lucas 30\n"
     ]
    }
   ],
   "source": [
    "# Ejercicio 01\n",
    "class Estudiante:\n",
    "    def __init__(self, nombre, nota):\n",
    "        self.__nombre = nombre\n",
    "        self.__nota = nota\n",
    "\n",
    "    def set_nombre(self, nuevo_nombre):\n",
    "        self.__nombre = nuevo_nombre\n",
    "\n",
    "    def set_nota(self, nueva_nota):\n",
    "        self.__nota = nueva_nota\n",
    "\n",
    "    def get_nombre(self):\n",
    "        return self.__nombre\n",
    "\n",
    "    def get_nota(self):\n",
    "        return self.__nota\n",
    "\n",
    "\n",
    "estudiante_01 = Estudiante(\"Juan\", 20)\n",
    "print(estudiante_01.get_nombre(), estudiante_01.get_nota())\n",
    "\n",
    "estudiante_01.set_nombre(\"Lucas\")\n",
    "estudiante_01.set_nota(30)\n",
    "print(estudiante_01.get_nombre(), estudiante_01.get_nota())"
   ]
  },
  {
   "cell_type": "code",
   "execution_count": 17,
   "id": "aa2f358c",
   "metadata": {},
   "outputs": [
    {
     "name": "stdout",
     "output_type": "stream",
     "text": [
      "Libro(Cien años de soledad, Gabriel García Marquez)\n"
     ]
    }
   ],
   "source": [
    "# Ejercicio 02\n",
    "class Libro:\n",
    "    def __init__(self, titulo, autor):\n",
    "        self.__titulo = titulo\n",
    "        self.__autor = autor\n",
    "\n",
    "    def __str__(self):\n",
    "        return f\"Libro({self.__titulo}, {self.__autor})\"\n",
    "\n",
    "\n",
    "libro = Libro(\"Cien años de soledad\", \"Gabriel García Marquez\")\n",
    "print(libro)"
   ]
  },
  {
   "cell_type": "code",
   "execution_count": 20,
   "id": "21e9fe25",
   "metadata": {},
   "outputs": [
    {
     "name": "stdout",
     "output_type": "stream",
     "text": [
      "Producto(Televisor, 1900)\n",
      "Producto(Refrigeladora, 2900)\n"
     ]
    }
   ],
   "source": [
    "# Ejercicio 03\n",
    "class Producto:\n",
    "    def __init__(self, nombre, precio):\n",
    "        self.__nombre = nombre\n",
    "        self.__precio = precio\n",
    "\n",
    "    def __str__(self):\n",
    "        return f\"Producto({self.__nombre}, {self.__precio})\"\n",
    "\n",
    "\n",
    "producto01 = Producto(\"Televisor\", 1900)\n",
    "producto02 = Producto(\"Refrigeladora\", 2900)\n",
    "\n",
    "productos = [producto01, producto02]\n",
    "\n",
    "for producto in productos:\n",
    "    print(producto)"
   ]
  },
  {
   "cell_type": "markdown",
   "id": "3a8331ca",
   "metadata": {},
   "source": [
    "## 7.5. Métodos de clase y estática\n"
   ]
  },
  {
   "cell_type": "markdown",
   "id": "8cce881d",
   "metadata": {},
   "source": [
    "### Básico\n"
   ]
  },
  {
   "cell_type": "code",
   "execution_count": 26,
   "id": "fd83cbe4",
   "metadata": {},
   "outputs": [
    {
     "data": {
      "text/plain": [
       "7"
      ]
     },
     "execution_count": 26,
     "metadata": {},
     "output_type": "execute_result"
    }
   ],
   "source": [
    "# Ejercicio 01\n",
    "class Animal:\n",
    "    contador = 0\n",
    "\n",
    "    def __init__(self):\n",
    "        Animal.contador += 1\n",
    "\n",
    "    @classmethod\n",
    "    def contar_animales(cls):\n",
    "        return cls.contador\n",
    "\n",
    "\n",
    "animal_A = Animal()\n",
    "animal_B = Animal()\n",
    "animal_C = Animal()\n",
    "animal_D = Animal()\n",
    "animal_E = Animal()\n",
    "animal_F = Animal()\n",
    "animal_G = Animal()\n",
    "\n",
    "Animal.contar_animales()"
   ]
  },
  {
   "cell_type": "code",
   "execution_count": 41,
   "id": "7c25c3fb",
   "metadata": {},
   "outputs": [
    {
     "name": "stdout",
     "output_type": "stream",
     "text": [
      "Persona_01 -> Nombre: Juan, Edad: 20\n",
      "Persona_02 -> Nombre: Lucas, Edad: 30\n",
      "Persona_03 -> Nombre: Julieta, Edad: 80\n",
      "Persona_04 -> Nombre: Mariana, Edad: 13\n",
      "Persona_05 -> Nombre: Leon, Edad: 23\n",
      "Persona_06 -> Nombre: Sam, Edad: 12\n",
      "Persona_07 -> Nombre: Rene, Edad: 34\n"
     ]
    }
   ],
   "source": [
    "# Ejercicio 02\n",
    "class Persona:\n",
    "    def __init__(self, nombre=\"\", edad=0):\n",
    "        self.__nombre = nombre\n",
    "        self.__edad = edad\n",
    "\n",
    "    @classmethod\n",
    "    def desde_cadena(cls, nombre_edad):\n",
    "        nombre, edad = nombre_edad.split(\"-\")\n",
    "        edad = int(edad)\n",
    "        return cls(nombre, edad)\n",
    "\n",
    "    def set_nombre(self, nuevo_nombre):\n",
    "        self.__nombre = nuevo_nombre\n",
    "\n",
    "    def set_edad(self, nueva_edad):\n",
    "        self.__edad = nueva_edad\n",
    "\n",
    "    def get_nombre(self):\n",
    "        return self.__nombre\n",
    "\n",
    "    def get_edad(self):\n",
    "        return self.__edad\n",
    "\n",
    "\n",
    "lista_cadenas = [\n",
    "    \"Juan-20\",\n",
    "    \"Lucas-30\",\n",
    "    \"Julieta-80\",\n",
    "    \"Mariana-13\",\n",
    "    \"Leon-23\",\n",
    "    \"Sam-12\",\n",
    "    \"Rene-34\",\n",
    "]\n",
    "etiquetas = [\n",
    "    \"Persona_01\",\n",
    "    \"Persona_02\",\n",
    "    \"Persona_03\",\n",
    "    \"Persona_04\",\n",
    "    \"Persona_05\",\n",
    "    \"Persona_06\",\n",
    "    \"Persona_07\",\n",
    "]\n",
    "\n",
    "personas_dic = {\n",
    "    etiqueta: Persona.desde_cadena(cadena)\n",
    "    for etiqueta, cadena in zip(etiquetas, lista_cadenas)\n",
    "}\n",
    "\n",
    "for etiqueta, instancia in personas_dic.items():\n",
    "    print(\n",
    "        f\"{etiqueta} -> Nombre: {instancia.get_nombre()}, Edad: {instancia.get_edad()}\"\n",
    "    )"
   ]
  },
  {
   "cell_type": "code",
   "execution_count": 44,
   "id": "32337a41",
   "metadata": {},
   "outputs": [
    {
     "name": "stdout",
     "output_type": "stream",
     "text": [
      "3500\n"
     ]
    }
   ],
   "source": [
    "# Ejercicio 03\n",
    "class Empleado:\n",
    "    __sueldo_base = 0\n",
    "\n",
    "    def __init__(self):\n",
    "        pass\n",
    "\n",
    "    @classmethod\n",
    "    def set_sueldo_base(cls, nuevo_sueldo_base):\n",
    "        cls.__sueldo_base = int(nuevo_sueldo_base)\n",
    "\n",
    "    @classmethod\n",
    "    def get_sueldo_base(cls):\n",
    "        return cls.__sueldo_base\n",
    "\n",
    "\n",
    "empleado01 = Empleado()\n",
    "Empleado.set_sueldo_base(3500)\n",
    "print(empleado01.get_sueldo_base())"
   ]
  },
  {
   "cell_type": "code",
   "execution_count": 45,
   "id": "2c352616",
   "metadata": {},
   "outputs": [
    {
     "name": "stdout",
     "output_type": "stream",
     "text": [
      "25\n"
     ]
    }
   ],
   "source": [
    "# Ejercicio 04\n",
    "class Coche:\n",
    "    __total_coches_vendidos = 0\n",
    "\n",
    "    def __init__(self):\n",
    "        pass\n",
    "\n",
    "    @classmethod\n",
    "    def add_coches_vendidos(cls, coches_vendidos):\n",
    "        cls.__total_coches_vendidos += int(coches_vendidos)\n",
    "\n",
    "    @classmethod\n",
    "    def get_total_coches_vendidos(cls):\n",
    "        return cls.__total_coches_vendidos\n",
    "\n",
    "\n",
    "coche01 = Coche()\n",
    "Coche.add_coches_vendidos(12)\n",
    "Coche.add_coches_vendidos(13)\n",
    "print(Coche.get_total_coches_vendidos())"
   ]
  },
  {
   "cell_type": "markdown",
   "id": "dde0a58e",
   "metadata": {},
   "source": [
    "# 8. Conceptos avanzados\n"
   ]
  },
  {
   "cell_type": "markdown",
   "id": "1a8bcd16",
   "metadata": {},
   "source": [
    "## 8.1. Decoradores y generadores\n"
   ]
  },
  {
   "cell_type": "markdown",
   "id": "6484ac37",
   "metadata": {},
   "source": [
    "### Básico\n"
   ]
  },
  {
   "cell_type": "code",
   "execution_count": 5,
   "id": "db2acad9",
   "metadata": {},
   "outputs": [
    {
     "name": "stdout",
     "output_type": "stream",
     "text": [
      "#########\n",
      "Hola, Universo.\n",
      "#########\n"
     ]
    }
   ],
   "source": [
    "# Ejercicio 01"
   ]
  },
  {
   "cell_type": "code",
   "execution_count": 26,
   "id": "b767f14f",
   "metadata": {},
   "outputs": [
    {
     "name": "stdout",
     "output_type": "stream",
     "text": [
      "1 veces\n",
      "Hola\n",
      "2 veces\n",
      "Hola\n",
      "3 veces\n",
      "Hola\n"
     ]
    }
   ],
   "source": [
    "# Ejercicio 02"
   ]
  },
  {
   "cell_type": "code",
   "execution_count": 21,
   "id": "6e507353",
   "metadata": {},
   "outputs": [
    {
     "name": "stdout",
     "output_type": "stream",
     "text": [
      "Tiempo de ejecución: 0:00:00\n"
     ]
    },
    {
     "data": {
      "text/plain": [
       "479001600"
      ]
     },
     "execution_count": 21,
     "metadata": {},
     "output_type": "execute_result"
    }
   ],
   "source": [
    "# Ejercicio 03\n",
    "from datetime import datetime\n",
    "import math\n",
    "\n",
    "\n",
    "def decorador(func):\n",
    "    def wrapper(*args, **kwargs):\n",
    "        time_start = datetime.now()\n",
    "        resultado = func(*args, **kwargs)\n",
    "        time_end = datetime.now()\n",
    "        print(f\"Tiempo de ejecución: {time_end - time_start}\")\n",
    "        return resultado\n",
    "\n",
    "    return wrapper\n",
    "\n",
    "\n",
    "@decorador\n",
    "def fact(n):\n",
    "    return math.factorial(n)\n",
    "\n",
    "\n",
    "fact(12)"
   ]
  },
  {
   "cell_type": "code",
   "execution_count": 25,
   "id": "5bde3155",
   "metadata": {},
   "outputs": [
    {
     "name": "stdout",
     "output_type": "stream",
     "text": [
      "Función ejecutada.\n"
     ]
    }
   ],
   "source": [
    "# Ejercicio 04\n",
    "def decorador_with_arguments(required_role):\n",
    "    def decorator(func):\n",
    "        def wrapper(*args, **kwargs):\n",
    "            user_role = args[0] if args else None\n",
    "            if user_role == required_role:\n",
    "                return func(*args, **kwargs)\n",
    "            else:\n",
    "                print(\"Error: No tiene permiso para ejecutar esta función.\")\n",
    "\n",
    "        return wrapper\n",
    "\n",
    "    return decorator\n",
    "\n",
    "\n",
    "@decorador_with_arguments(\"Admin\")\n",
    "def funcion(user_role):\n",
    "    print(\"Función ejecutada.\")\n",
    "\n",
    "\n",
    "funcion(\"Admin\")"
   ]
  },
  {
   "cell_type": "code",
   "execution_count": 39,
   "id": "e58ae715",
   "metadata": {},
   "outputs": [
    {
     "name": "stdout",
     "output_type": "stream",
     "text": [
      "Ejecucion registrado.\n",
      "Ejecucion registrado.\n"
     ]
    },
    {
     "data": {
      "text/plain": [
       "16"
      ]
     },
     "execution_count": 39,
     "metadata": {},
     "output_type": "execute_result"
    }
   ],
   "source": [
    "# Ejercicio 05\n",
    "from pathlib import Path\n",
    "from datetime import datetime\n",
    "\n",
    "\n",
    "def decorator_with_arguments(path_argument):\n",
    "    def decorador(func):\n",
    "        def wrapper(*args, **kwargs):\n",
    "            resultado = func(*args, **kwargs)\n",
    "            registro = f\"Función: {func.__name__}, Argumentos: {args}, Fecha de ejecución: {datetime.now()}\"\n",
    "            path = Path(path_argument)\n",
    "            mode = \"a\" if path.exists() else \"w\"\n",
    "\n",
    "            with path.open(mode) as archivo:\n",
    "                archivo.write(registro + \"\\n\")\n",
    "                print(\"Ejecucion registrado.\")\n",
    "\n",
    "            return resultado\n",
    "\n",
    "        return wrapper\n",
    "\n",
    "    return decorador\n",
    "\n",
    "\n",
    "@decorator_with_arguments(\"archivo.log\")\n",
    "def sumar(*args):\n",
    "    return sum(args)\n",
    "\n",
    "\n",
    "@decorator_with_arguments(\"archivo.log\")\n",
    "def multiplicar(*args):\n",
    "    c = 1\n",
    "    for i in args:\n",
    "        c = c * i\n",
    "    return c\n",
    "\n",
    "\n",
    "sumar(1, 23, 4)\n",
    "multiplicar(2, 2, 2, 2)"
   ]
  },
  {
   "cell_type": "code",
   "execution_count": 43,
   "id": "4a038731",
   "metadata": {},
   "outputs": [
    {
     "data": {
      "text/plain": [
       "6"
      ]
     },
     "execution_count": 43,
     "metadata": {},
     "output_type": "execute_result"
    }
   ],
   "source": [
    "# Ejercicio 06\n",
    "def decorator(func):\n",
    "    def wrapper(*args, **kwargs):\n",
    "        args = tuple([(i + 1) for i in args])\n",
    "        resultado = func(*args, **kwargs)\n",
    "        return resultado\n",
    "\n",
    "    return wrapper\n",
    "\n",
    "\n",
    "@decorator\n",
    "def sumar(*args):\n",
    "    return sum(args)\n",
    "\n",
    "\n",
    "sumar(1, 1, 1)"
   ]
  },
  {
   "cell_type": "code",
   "execution_count": 1,
   "id": "be235db3",
   "metadata": {},
   "outputs": [
    {
     "name": "stdout",
     "output_type": "stream",
     "text": [
      "1\n",
      "2\n",
      "3\n",
      "4\n",
      "5\n",
      "6\n",
      "7\n",
      "8\n",
      "9\n",
      "10\n"
     ]
    }
   ],
   "source": [
    "# Ejercicio 07\n",
    "def generador(max):\n",
    "    n = 0\n",
    "    while n < max:\n",
    "        yield n + 1\n",
    "        n += 1\n",
    "\n",
    "\n",
    "for i in generador(10):\n",
    "    print(i)"
   ]
  },
  {
   "cell_type": "code",
   "execution_count": 10,
   "id": "1c910cc5",
   "metadata": {},
   "outputs": [
    {
     "name": "stdout",
     "output_type": "stream",
     "text": [
      "2\n",
      "4\n",
      "6\n",
      "8\n",
      "10\n",
      "12\n",
      "14\n"
     ]
    }
   ],
   "source": [
    "# Ejercicio 08\n",
    "def generador(min, max):\n",
    "    c = min if min % 2 == 0 else min + 1\n",
    "    while c <= max:\n",
    "\n",
    "        yield c\n",
    "        c += 2\n",
    "\n",
    "\n",
    "for i in generador(2, 14):\n",
    "    print(i)"
   ]
  },
  {
   "cell_type": "code",
   "execution_count": 16,
   "id": "7d7eb6b4",
   "metadata": {},
   "outputs": [
    {
     "name": "stdout",
     "output_type": "stream",
     "text": [
      "(1, 1)\n",
      "(2, 1)\n",
      "(3, 2)\n",
      "(4, 3)\n",
      "(5, 5)\n",
      "(6, 8)\n",
      "(7, 13)\n",
      "(8, 21)\n",
      "(9, 34)\n",
      "(10, 55)\n",
      "(11, 89)\n",
      "(12, 144)\n",
      "(13, 233)\n",
      "(14, 377)\n",
      "(15, 610)\n",
      "(16, 987)\n"
     ]
    }
   ],
   "source": [
    "# Ejercicio 09\n",
    "def generador(max):\n",
    "    (a, b) = (0, 1)\n",
    "    n = 1\n",
    "    while b <= max:\n",
    "        yield (n, b)\n",
    "        (a, b) = (b, a + b)\n",
    "        n += 1\n",
    "\n",
    "\n",
    "for item, value in generador(1000):\n",
    "    print(f\"({item}, {value})\")"
   ]
  },
  {
   "cell_type": "markdown",
   "id": "ba8896c2",
   "metadata": {},
   "source": [
    "### Intermedio\n"
   ]
  },
  {
   "cell_type": "code",
   "execution_count": null,
   "id": "f8c714b0",
   "metadata": {},
   "outputs": [],
   "source": []
  },
  {
   "cell_type": "markdown",
   "id": "9c279de9",
   "metadata": {},
   "source": [
    "## 8.2. Programación funcional - Funciones de orden superior\n"
   ]
  },
  {
   "cell_type": "markdown",
   "id": "62965b12",
   "metadata": {},
   "source": [
    "### Básico\n"
   ]
  },
  {
   "cell_type": "code",
   "execution_count": 18,
   "id": "e99d5377",
   "metadata": {},
   "outputs": [
    {
     "name": "stdout",
     "output_type": "stream",
     "text": [
      "[2, 46, 6, 8, 10, 12, 14, 8]\n"
     ]
    }
   ],
   "source": [
    "# Ejercicio 01\n",
    "lista = [1, 23, 3, 4, 5, 6, 7, 4]\n",
    "lista_por_2 = list(map(lambda i: i * 2, lista))\n",
    "print(lista_por_2)"
   ]
  },
  {
   "cell_type": "code",
   "execution_count": 19,
   "id": "5a656cc2",
   "metadata": {},
   "outputs": [
    {
     "name": "stdout",
     "output_type": "stream",
     "text": [
      "[12, 34, 56, 78, 90]\n"
     ]
    }
   ],
   "source": [
    "# Ejercicio 02\n",
    "lista = [12, 23, 34, 45, 56, 67, 78, 89, 90]\n",
    "lista_pares = list(filter(lambda x: x % 2 == 0, lista))\n",
    "print(lista_pares)"
   ]
  },
  {
   "cell_type": "code",
   "execution_count": 23,
   "id": "97ba6119",
   "metadata": {},
   "outputs": [
    {
     "name": "stdout",
     "output_type": "stream",
     "text": [
      "48\n"
     ]
    }
   ],
   "source": [
    "# Ejercicio 03\n",
    "from functools import reduce\n",
    "\n",
    "lista = [1, 2, 3, 4, 2]\n",
    "lista_produc = reduce(lambda x, y: x * y, lista)\n",
    "print(lista_produc)"
   ]
  },
  {
   "cell_type": "markdown",
   "id": "efa1aebd",
   "metadata": {},
   "source": [
    "## 8.4. Comprensión de lista, conjuntos y diccionarios\n"
   ]
  },
  {
   "cell_type": "markdown",
   "id": "523b15a3",
   "metadata": {},
   "source": [
    "### Básico\n"
   ]
  },
  {
   "cell_type": "code",
   "execution_count": 26,
   "id": "7ba79c66",
   "metadata": {},
   "outputs": [
    {
     "name": "stdout",
     "output_type": "stream",
     "text": [
      "[1, 4, 9, 16, 25]\n"
     ]
    }
   ],
   "source": [
    "# Ejercicio 01\n",
    "cuadrados = [(i + 1) ** 2 for i in range(5)]\n",
    "print(cuadrados)"
   ]
  },
  {
   "cell_type": "code",
   "execution_count": 30,
   "id": "68d0b750",
   "metadata": {},
   "outputs": [
    {
     "name": "stdout",
     "output_type": "stream",
     "text": [
      "{2, 4, 5, 6}\n"
     ]
    }
   ],
   "source": [
    "# Ejercicio 02\n",
    "cadenas = [\"sdfsd\", \"ew\", \"fghd\", \"asdasd\", \"fghfgv\", \"yuik\"]\n",
    "longitudes = {len(string) for string in cadenas}\n",
    "print(longitudes)"
   ]
  },
  {
   "cell_type": "code",
   "execution_count": 35,
   "id": "b0b2292d",
   "metadata": {},
   "outputs": [
    {
     "name": "stdout",
     "output_type": "stream",
     "text": [
      "{1: 1, 2: 4, 3: 9, 4: 16, 5: 25, 6: 36}\n"
     ]
    }
   ],
   "source": [
    "# Ejercicio 03\n",
    "cuadrados = {valor: valor**2 for valor in range(1, 7)}\n",
    "print(cuadrados)"
   ]
  },
  {
   "cell_type": "code",
   "execution_count": null,
   "id": "db2108da",
   "metadata": {},
   "outputs": [],
   "source": []
  },
  {
   "cell_type": "code",
   "execution_count": null,
   "id": "1087c792",
   "metadata": {},
   "outputs": [],
   "source": []
  },
  {
   "cell_type": "markdown",
   "id": "2a2e42d8",
   "metadata": {},
   "source": [
    "## 8.5. Anotaciones de tipo\n"
   ]
  },
  {
   "cell_type": "markdown",
   "id": "a32aef88",
   "metadata": {},
   "source": [
    "### Básico\n"
   ]
  },
  {
   "cell_type": "markdown",
   "id": "58093651",
   "metadata": {},
   "source": [
    "#### _Tipos básicos_\n"
   ]
  },
  {
   "cell_type": "code",
   "execution_count": null,
   "id": "4cd53484",
   "metadata": {},
   "outputs": [],
   "source": []
  },
  {
   "cell_type": "markdown",
   "id": "2f465d7b",
   "metadata": {},
   "source": [
    "#### _Colecciones_\n"
   ]
  },
  {
   "cell_type": "code",
   "execution_count": 13,
   "id": "e18720ae",
   "metadata": {},
   "outputs": [
    {
     "name": "stdout",
     "output_type": "stream",
     "text": [
      "10\n",
      "4\n"
     ]
    }
   ],
   "source": [
    "# Ejercicio 01\n",
    "from typing import List, Any\n",
    "\n",
    "\n",
    "def len_list(valores: List[Any]) -> int:\n",
    "    return len(valores)\n",
    "\n",
    "\n",
    "lista_ints = [1, 2, 3, 4, 5, 6, 7, 8, 9, 0]\n",
    "list_strings = [\"asd\", \"sdf\", \"dfg\", \"fghf\"]\n",
    "print(len_list(lista_ints))\n",
    "print(len_list(list_strings))"
   ]
  },
  {
   "cell_type": "code",
   "execution_count": 16,
   "id": "da704d59",
   "metadata": {},
   "outputs": [
    {
     "data": {
      "text/plain": [
       "3523"
      ]
     },
     "execution_count": 16,
     "metadata": {},
     "output_type": "execute_result"
    }
   ],
   "source": [
    "# Ejercicio 02\n",
    "from typing import Dict\n",
    "\n",
    "\n",
    "def sumar_valores(diccionario: Dict[str, int]) -> int:\n",
    "    return sum(diccionario.values())\n",
    "\n",
    "\n",
    "productos = {\"calculadora\": 23, \"televisor\": 1200, \"refrigeladora\": 2300}\n",
    "\n",
    "sumar_valores(productos)\n",
    "\n",
    "\n",
    "def suamr_valores(diccionario):\n",
    "    return sum(diccionario.values())"
   ]
  },
  {
   "cell_type": "code",
   "execution_count": 29,
   "id": "f620ca4a",
   "metadata": {},
   "outputs": [
    {
     "data": {
      "text/plain": [
       "144"
      ]
     },
     "execution_count": 29,
     "metadata": {},
     "output_type": "execute_result"
    }
   ],
   "source": [
    "# Ejercicio 03\n",
    "from typing import Tuple\n",
    "\n",
    "\n",
    "def multiplicar_elementos_tuple(tupla: Tuple[int, int]) -> int:\n",
    "    return tupla[0] * tupla[1]\n",
    "\n",
    "\n",
    "mi_tupla = (12, 12)\n",
    "multiplicar_elementos_tuple(mi_tupla)"
   ]
  },
  {
   "cell_type": "code",
   "execution_count": 31,
   "id": "4ebb72d7",
   "metadata": {},
   "outputs": [
    {
     "data": {
      "text/plain": [
       "{'asdf', 'asdfg', 'werwetrwe'}"
      ]
     },
     "execution_count": 31,
     "metadata": {},
     "output_type": "execute_result"
    }
   ],
   "source": [
    "# Ejercicio 04\n",
    "from typing import Set, Any\n",
    "\n",
    "\n",
    "def mayor_tres(conjunto: Set[str]) -> Set[str]:\n",
    "    return {x for x in conjunto if len(x) > 3}\n",
    "\n",
    "\n",
    "mi_conjunto = {\"a\", \"a\", \"sd\", \"fds\", \"asdf\", \"asdf\", \"asdfg\", \"werwetrwe\", \"dfg\"}\n",
    "mayor_tres(mi_conjunto)"
   ]
  },
  {
   "cell_type": "code",
   "execution_count": 42,
   "id": "cb88b342",
   "metadata": {},
   "outputs": [],
   "source": [
    "# Ejercicio 05\n",
    "from typing import Any\n",
    "\n",
    "\n",
    "def tipo_data(valor: Any) -> Any:\n",
    "    return str(type(valor))"
   ]
  },
  {
   "cell_type": "code",
   "execution_count": 43,
   "id": "80013ba4",
   "metadata": {},
   "outputs": [
    {
     "data": {
      "text/plain": [
       "[144, 0.09, 9]"
      ]
     },
     "execution_count": 43,
     "metadata": {},
     "output_type": "execute_result"
    }
   ],
   "source": [
    "# Ejercicio 06\n",
    "from typing import List\n",
    "\n",
    "\n",
    "def cuadrados(lista: List[float]) -> List[float]:\n",
    "    return [i**2 for i in lista]"
   ]
  },
  {
   "cell_type": "markdown",
   "id": "affa0612",
   "metadata": {},
   "source": [
    "## 8.6. Clases Abstractas\n"
   ]
  },
  {
   "cell_type": "markdown",
   "id": "cbbb108e",
   "metadata": {},
   "source": [
    "### Básico\n"
   ]
  },
  {
   "cell_type": "code",
   "execution_count": 51,
   "id": "b1dc0750",
   "metadata": {},
   "outputs": [
    {
     "name": "stdout",
     "output_type": "stream",
     "text": [
      "Vehiculo moviendose\n"
     ]
    }
   ],
   "source": [
    "# Ejercicio 01\n",
    "from abc import ABC, abstractmethod\n",
    "\n",
    "\n",
    "class Vehiculo(ABC):\n",
    "    @abstractmethod\n",
    "    def moverse(self) -> None:\n",
    "        pass\n",
    "\n",
    "\n",
    "class Coche(Vehiculo):\n",
    "    def moverse(self) -> None:\n",
    "        print(\"El coche se mueve.\")\n",
    "\n",
    "\n",
    "coche = Coche()\n",
    "coche.moverse()"
   ]
  },
  {
   "cell_type": "code",
   "execution_count": 54,
   "id": "d4d3d3bd",
   "metadata": {},
   "outputs": [
    {
     "name": "stdout",
     "output_type": "stream",
     "text": [
      "Exhalando e inhalando\n",
      "Miau!\n"
     ]
    }
   ],
   "source": [
    "# Ejercicio 02\n",
    "from abc import ABC, abstractmethod\n",
    "\n",
    "\n",
    "class Animal(ABC):\n",
    "\n",
    "    @abstractmethod\n",
    "    def hacer_sonido(self) -> None:\n",
    "        pass\n",
    "\n",
    "    def respirar(self) -> None:\n",
    "        print(\"Exhalando e inhalando\")\n",
    "\n",
    "\n",
    "class Gato(Animal):\n",
    "    def hacer_sonido(self) -> None:\n",
    "        print(\"Miau!\")\n",
    "\n",
    "\n",
    "mi_gato = Gato()\n",
    "mi_gato.respirar()\n",
    "mi_gato.hacer_sonido()"
   ]
  },
  {
   "cell_type": "markdown",
   "id": "73367cc8",
   "metadata": {},
   "source": [
    "# 9. Algoritmos y estrucutras de datos 2\n"
   ]
  },
  {
   "cell_type": "markdown",
   "id": "5b91a80d",
   "metadata": {},
   "source": [
    "## 9.1. Algoritmos de busqueda y ordenación\n"
   ]
  },
  {
   "cell_type": "markdown",
   "id": "82e86fb4",
   "metadata": {},
   "source": [
    "### Básico\n"
   ]
  },
  {
   "cell_type": "code",
   "execution_count": 62,
   "id": "99cbe1ab",
   "metadata": {},
   "outputs": [
    {
     "data": {
      "text/plain": [
       "[2, 11]"
      ]
     },
     "execution_count": 62,
     "metadata": {},
     "output_type": "execute_result"
    }
   ],
   "source": [
    "# Ejercicio 01\n",
    "from typing import List, Optional\n",
    "\n",
    "\n",
    "def buscar_valores(lista: List[int], valor: int) -> Optional[list[int]]:\n",
    "    resultado = [index for index, value in enumerate(lista) if value == valor]\n",
    "    return resultado if resultado else None\n",
    "\n",
    "\n",
    "lista_enteros = [123, 234, 345, 231, 232, 233, 343, 456, 567, 678, 888, 345]\n",
    "buscar_valores(lista_enteros, 345)  # [2, 11]"
   ]
  },
  {
   "cell_type": "code",
   "execution_count": 65,
   "id": "61d3d068",
   "metadata": {},
   "outputs": [
    {
     "data": {
      "text/plain": [
       "[1, 2, 9]"
      ]
     },
     "execution_count": 65,
     "metadata": {},
     "output_type": "execute_result"
    }
   ],
   "source": [
    "# Ejercicio 02\n",
    "def find_string(strings: list[str], target: str) -> Optional[list[int]]:\n",
    "    \"\"\"\n",
    "    Search for a specific string in a list of strings.\n",
    "\n",
    "    Args:\n",
    "        strings (list[str]): A list of strings to search through.\n",
    "        target (str): The string to search for.\n",
    "\n",
    "    Returns:\n",
    "        Optional[list[int]]: A list of indices where the target string is found, or None if not found.\n",
    "    \"\"\"\n",
    "\n",
    "    indices = [index for index, string in enumerate(strings) if string == target]\n",
    "    return indices if indices else None\n",
    "\n",
    "\n",
    "list_strings = [\n",
    "    \"asd\",\n",
    "    \"sdf\",\n",
    "    \"sdf\",\n",
    "    \"dfg\",\n",
    "    \"fgh\",\n",
    "    \"hgj\",\n",
    "    \"hjk\",\n",
    "    \"jkl\",\n",
    "    \"asd\",\n",
    "    \"sdf\",\n",
    "    \"dfg\",\n",
    "]\n",
    "find_string(list_strings, \"sdf\")"
   ]
  },
  {
   "cell_type": "code",
   "execution_count": 82,
   "id": "9149f8f4",
   "metadata": {},
   "outputs": [
    {
     "name": "stdout",
     "output_type": "stream",
     "text": [
      "[(123, 0), (34, 1), (345, 2), (231, 3), (232, 4), (33, 5), (343, 6)]\n",
      "34\n"
     ]
    }
   ],
   "source": [
    "list = [123, 34, 345, 231, 232, 33, 343]\n",
    "indexed_list = [(value, index) for index, value in enumerate(list)]\n",
    "print(indexed_list)\n",
    "print(indexed_list[1][0])"
   ]
  },
  {
   "cell_type": "code",
   "execution_count": 2,
   "id": "ca945304",
   "metadata": {},
   "outputs": [
    {
     "data": {
      "text/plain": [
       "5"
      ]
     },
     "execution_count": 2,
     "metadata": {},
     "output_type": "execute_result"
    }
   ],
   "source": [
    "from typing import Optional\n",
    "\n",
    "\n",
    "def find_value(arr: list[int], target: int) -> Optional[int]:\n",
    "\n",
    "    left, right = 0, len(arr) - 1\n",
    "\n",
    "    while left <= right:\n",
    "        mid = (left + right) // 2\n",
    "\n",
    "        if arr[mid] == target:\n",
    "            return mid\n",
    "\n",
    "        elif arr[mid] < target:\n",
    "            left = mid + 1\n",
    "\n",
    "        else:\n",
    "            right = mid - 1\n",
    "\n",
    "    return None\n",
    "\n",
    "\n",
    "lista = [11, 12, 13, 14, 15, 16, 17, 18, 19]\n",
    "\n",
    "find_value(lista, 16)"
   ]
  },
  {
   "cell_type": "code",
   "execution_count": 40,
   "id": "48de6b15",
   "metadata": {},
   "outputs": [
    {
     "data": {
      "text/plain": [
       "2"
      ]
     },
     "execution_count": 40,
     "metadata": {},
     "output_type": "execute_result"
    }
   ],
   "source": [
    "# Segundo enfoque (búsqueda lineal + partición): menos eficiente y más complicado\n",
    "def encontrar_valor(lista, target):\n",
    "    if target in lista:\n",
    "\n",
    "        if lista[: len(lista) // 2][-1] < target:\n",
    "            result = [\n",
    "                index\n",
    "                for index, value in enumerate(lista[len(lista) // 2 :])\n",
    "                if value == target\n",
    "            ][0]\n",
    "            result = result + len(lista[: len(lista) // 2])\n",
    "            return result\n",
    "\n",
    "        elif lista[: len(lista) // 2][-1] >= target:\n",
    "            result = [\n",
    "                index\n",
    "                for index, value in enumerate(lista[: len(lista) // 2])\n",
    "                if value == target\n",
    "            ][0]\n",
    "            return result\n",
    "    else:\n",
    "        return None\n",
    "\n",
    "\n",
    "lista = [1, 2, 3, 4, 5]\n",
    "target = 3\n",
    "encontrar_valor(lista, target)"
   ]
  },
  {
   "cell_type": "markdown",
   "id": "40771cfc-c31c-43ea-b5dd-ff09fcb760ac",
   "metadata": {},
   "source": [
    "### Recursividad\n"
   ]
  },
  {
   "cell_type": "code",
   "execution_count": null,
   "id": "bdabd432",
   "metadata": {},
   "outputs": [],
   "source": []
  },
  {
   "cell_type": "markdown",
   "id": "2827c373-d206-448f-8b2c-cc578185835d",
   "metadata": {},
   "source": [
    "#### Pregunta 1\n"
   ]
  },
  {
   "cell_type": "code",
   "execution_count": 35,
   "id": "7927f6d6-d070-4fc9-a8fa-c175c7b15c1b",
   "metadata": {},
   "outputs": [
    {
     "data": {
      "text/plain": [
       "34"
      ]
     },
     "execution_count": 35,
     "metadata": {},
     "output_type": "execute_result"
    }
   ],
   "source": [
    "def n_fibo(n):\n",
    "    \"\"\"Calcula el n-simo termino de fibonacci\"\"\"\n",
    "    if n == 1:\n",
    "        return 0\n",
    "    elif n == 2:\n",
    "        return 1\n",
    "    elif n == 3:\n",
    "        return 1\n",
    "    else:\n",
    "        return n_fibo(n - 1) + n_fibo(n - 2)\n",
    "\n",
    "\n",
    "n_fibo(10)"
   ]
  },
  {
   "cell_type": "markdown",
   "id": "fd38114f-a439-4235-9301-19e0ce597c14",
   "metadata": {},
   "source": [
    "#### Ejercicio 2\n",
    "\n",
    "_Calcula la suma de los digitos de un numero entero positivo n._\n"
   ]
  },
  {
   "cell_type": "code",
   "execution_count": 36,
   "id": "ea2f0faa-b104-48e2-bd66-316d787e8500",
   "metadata": {},
   "outputs": [],
   "source": [
    "def sumar_digitos(n):\n",
    "    \"\"\"Suma los digitos de un número entero positivo\"\"\"\n",
    "    if n <= 9:\n",
    "        return n\n",
    "    else:\n",
    "        return sumar_digitos(n // 10) + n % 10"
   ]
  },
  {
   "cell_type": "markdown",
   "id": "d794fdeb-5e2a-4fe2-92af-657f1165f5d6",
   "metadata": {},
   "source": [
    "#### Ejercicio 3\n",
    "\n",
    "_Invierte una cadena de caracteres utilizando recursividad._\n"
   ]
  },
  {
   "cell_type": "code",
   "execution_count": 15,
   "id": "b7816f62-48e8-4bdd-a44c-1b71b3df2b55",
   "metadata": {},
   "outputs": [],
   "source": [
    "def invertirCadena(cadena):\n",
    "    \"\"\"Invierte una cadena de caracteres\"\"\"\n",
    "    if True:\n",
    "        pass\n",
    "\n",
    "    else:\n",
    "        pass"
   ]
  },
  {
   "cell_type": "markdown",
   "id": "ba32bf4e-2589-4b75-9023-8ffba3e47243",
   "metadata": {},
   "source": [
    "#### Recursividad con javascript\n"
   ]
  },
  {
   "cell_type": "code",
   "execution_count": 23,
   "id": "ad9aaced-4430-4086-86e7-f807d26380fd",
   "metadata": {},
   "outputs": [
    {
     "name": "stdout",
     "output_type": "stream",
     "text": [
      "(((1 * 3) + 5) + 5)\n"
     ]
    }
   ],
   "source": [
    "def encontrarSolucion(objetivo):\n",
    "    def encontrar(actual, historia):\n",
    "        if actual == objetivo:\n",
    "            return historia\n",
    "        elif actual > objetivo:\n",
    "            return None\n",
    "        else:\n",
    "            return encontrar(actual + 5, f\"({historia} + 5)\") or encontrar(\n",
    "                actual * 3, f\"({historia} * 3)\"\n",
    "            )\n",
    "\n",
    "    return encontrar(1, \"1\")\n",
    "\n",
    "\n",
    "print(encontrarSolucion(13))"
   ]
  },
  {
   "cell_type": "markdown",
   "id": "423e1767",
   "metadata": {},
   "source": [
    "# 10. Pruebas y depuración\n"
   ]
  },
  {
   "cell_type": "markdown",
   "id": "d05fa6f0",
   "metadata": {},
   "source": [
    "## 10.1. Uso de print y herramienta de depuración\n"
   ]
  },
  {
   "cell_type": "code",
   "execution_count": 5,
   "id": "77b05fa7",
   "metadata": {},
   "outputs": [
    {
     "name": "stdout",
     "output_type": "stream",
     "text": [
      "valor de price: 123\n",
      "valor de total acumulado: 123\n",
      "valor de price: 234\n",
      "valor de total acumulado: 357\n",
      "valor de price: 345\n",
      "valor de total acumulado: 702\n",
      "valor de price: 123\n",
      "valor de total acumulado: 825\n",
      "valor de price: 23\n",
      "valor de total acumulado: 848\n",
      "valor de price: 23\n",
      "valor de total acumulado: 871\n",
      "valor de price: 34\n",
      "valor de total acumulado: 905\n",
      "valor de price: 32\n",
      "valor de total acumulado: 937\n",
      "valor de price: 43\n",
      "valor de total acumulado: 980\n",
      "valor de price: 54\n",
      "valor de total acumulado: 1034\n",
      "valor de price: 65\n",
      "valor de total acumulado: 1099\n",
      "valor de price: 21\n",
      "valor de total acumulado: 1120\n",
      "Valor de total antes del descuento: 1120\n",
      "Valor de total después del descuento: 985.6\n"
     ]
    },
    {
     "data": {
      "text/plain": [
       "985.6"
      ]
     },
     "execution_count": 5,
     "metadata": {},
     "output_type": "execute_result"
    }
   ],
   "source": [
    "# Ejercicio 01\n",
    "def calculate_total(prices, discount):\n",
    "    total = 0\n",
    "    for price in prices:\n",
    "        print(f\"valor de price: {price}\")\n",
    "        total += price\n",
    "        print(f\"valor de total acumulado: {total}\")\n",
    "\n",
    "    print(f\"Valor de total antes del descuento: {total}\")\n",
    "    total -= total * discount\n",
    "    print(f\"Valor de total después del descuento: {total}\")\n",
    "    return total\n",
    "\n",
    "\n",
    "prices = [123, 234, 345, 123, 23, 23, 34, 32, 43, 54, 65, 21]\n",
    "discount = 0.12\n",
    "\n",
    "calculate_total(prices, discount)"
   ]
  },
  {
   "cell_type": "code",
   "execution_count": 11,
   "id": "96b6db77",
   "metadata": {},
   "outputs": [
    {
     "name": "stdout",
     "output_type": "stream",
     "text": [
      "Valor          : 10\n",
      "---------------------\n",
      "Valor acumulado: 10\n",
      "Valor          : 20\n",
      "---------------------\n",
      "Valor acumulado: 30\n",
      "Valor          : 30\n",
      "---------------------\n",
      "Valor acumulado: 60\n",
      "Valor          : 40\n",
      "---------------------\n",
      "Valor acumulado: 100\n"
     ]
    }
   ],
   "source": [
    "# Ejercicio 02\n",
    "def calculate_average(numbers):\n",
    "    total = 0\n",
    "    for number in numbers:\n",
    "        print(f\"Valor          : {number}\")\n",
    "        total += number\n",
    "        print(\"---------------------\")\n",
    "        print(f\"Valor acumulado: {total}\")\n",
    "    average = total / len(numbers)\n",
    "    return average\n",
    "\n",
    "\n",
    "# Llama a la función con una lista de números y depura\n",
    "result = calculate_average([10, 20, 30, 40])"
   ]
  },
  {
   "cell_type": "code",
   "execution_count": 12,
   "id": "66f919ca",
   "metadata": {},
   "outputs": [
    {
     "name": "stdout",
     "output_type": "stream",
     "text": [
      "Number: 5\n",
      "Output: Odd\n"
     ]
    }
   ],
   "source": [
    "# Ejercicio 03\n",
    "def check_even_odd(number):\n",
    "    print(f\"Number: {number}\")\n",
    "    if number % 2 == 0:\n",
    "        print(\"Output: Even\")\n",
    "        return \"Even\"\n",
    "    else:\n",
    "        print(\"Output: Odd\")\n",
    "        return \"Odd\"\n",
    "\n",
    "\n",
    "# Llama a la función con un número y depura\n",
    "result = check_even_odd(5)"
   ]
  },
  {
   "cell_type": "code",
   "execution_count": 18,
   "id": "996a909f",
   "metadata": {},
   "outputs": [
    {
     "name": "stdout",
     "output_type": "stream",
     "text": [
      "Input: hello\n",
      "Proceso 1°: h\n",
      "Proceso 2°: eh\n",
      "Proceso 3°: leh\n",
      "Proceso 4°: lleh\n",
      "Proceso 5°: olleh\n",
      "olleh\n"
     ]
    }
   ],
   "source": [
    "# Exercise 04\n",
    "def reverse_string(s):\n",
    "    print(f\"Input: {s}\")\n",
    "    reversed_s = \"\"\n",
    "    for char in s:\n",
    "        reversed_s = char + reversed_s\n",
    "        print(f\"Proceso {len(reversed_s)}°: {reversed_s}\")\n",
    "    return reversed_s\n",
    "\n",
    "\n",
    "# Llama a la función con una cadena y depura\n",
    "result = reverse_string(\"hello\")\n",
    "print(result)"
   ]
  },
  {
   "cell_type": "code",
   "execution_count": 21,
   "id": "8c2e4672",
   "metadata": {},
   "outputs": [
    {
     "name": "stdout",
     "output_type": "stream",
     "text": [
      "Value: 3\n",
      "Value: 1\n",
      "Value: 4\n",
      "Max value to moment: 4\n",
      "Value: 1\n",
      "Value: 5\n",
      "Max value to moment: 5\n",
      "Value: 9\n",
      "Max value to moment: 9\n"
     ]
    }
   ],
   "source": [
    "# Exercise 05\n",
    "def find_max(numbers):\n",
    "    max_value = numbers[0]\n",
    "    for number in numbers:\n",
    "        print(f\"Value: {number}\")\n",
    "        if number > max_value:\n",
    "            max_value = number\n",
    "            print(f\"Max value to moment: {max_value}\")\n",
    "    return max_value\n",
    "\n",
    "\n",
    "# Llama a la función con una lista y depura\n",
    "result = find_max([3, 1, 4, 1, 5, 9])"
   ]
  },
  {
   "cell_type": "code",
   "execution_count": 24,
   "id": "bed04549",
   "metadata": {},
   "outputs": [
    {
     "name": "stdout",
     "output_type": "stream",
     "text": [
      "Llamada recursiva con n = 5\n",
      "Llamada recursiva con n = 4\n",
      "Llamada recursiva con n = 3\n",
      "Llamada recursiva con n = 2\n",
      "Llamada recursiva con n = 1\n"
     ]
    }
   ],
   "source": [
    "# Excersise 06\n",
    "def factorial(n):\n",
    "    if n == 0:\n",
    "        return 1\n",
    "    else:\n",
    "        print(f\"Llamada recursiva con n = {n}\")\n",
    "        return n * factorial(n - 1)\n",
    "\n",
    "\n",
    "# Llama a la función y depura\n",
    "result = factorial(5)"
   ]
  },
  {
   "cell_type": "code",
   "execution_count": null,
   "id": "fc009d87",
   "metadata": {},
   "outputs": [],
   "source": [
    "# Excersise 07\n",
    "def sum_list_elements(elements):\n",
    "    total = 0\n",
    "    for element in elements:\n",
    "        total += element  # Sumar cada elemento\n",
    "    return total\n",
    "\n",
    "\n",
    "# Ejemplos de prueba\n",
    "result1 = sum_list_elements([1, 2, 3, 4, 5])  # Debería devolver 15\n",
    "result2 = sum_list_elements([])  # Debería manejar la lista vacía\n",
    "result3 = sum_list_elements([1, \"a\", 3])  # Debería manejar elementos no numéricos\n",
    "\n",
    "print(\"Resultado 1:\", result1)\n",
    "print(\"Resultado 2:\", result2)\n",
    "print(\"Resultado 3:\", result3)"
   ]
  },
  {
   "cell_type": "markdown",
   "id": "26db631b",
   "metadata": {},
   "source": [
    "## 10.2. Escritura de pruebas unitarias con unisttest y pytest\n"
   ]
  },
  {
   "cell_type": "markdown",
   "id": "faf5c519",
   "metadata": {},
   "source": [
    "### Básico\n"
   ]
  },
  {
   "cell_type": "code",
   "execution_count": 39,
   "id": "dadf5b16",
   "metadata": {},
   "outputs": [
    {
     "name": "stderr",
     "output_type": "stream",
     "text": [
      "........\n",
      "----------------------------------------------------------------------\n",
      "Ran 8 tests in 0.011s\n",
      "\n",
      "OK\n"
     ]
    }
   ],
   "source": [
    "import unittest\n",
    "\n",
    "\n",
    "def add(a, b):\n",
    "    return a + b\n",
    "\n",
    "\n",
    "class TestAddFunction(unittest.TestCase):\n",
    "    def test_add_positive(self):\n",
    "        self.assertEqual(add(2, 3), 5)\n",
    "\n",
    "    def test_add_negative(self):\n",
    "        self.assertEqual(add(-3, 3), 0)\n",
    "\n",
    "    def test_add_zero(self):\n",
    "        self.assertEqual(add(0, 0), 0)\n",
    "\n",
    "    # Añadiendo pruebas adicionales\n",
    "    def test_add_large_numbers(self):\n",
    "        self.assertEqual(add(1_000_000, 1), 1_000_001)\n",
    "\n",
    "    def test_add_float(self):\n",
    "        self.assertAlmostEqual(add(0.1, 0.2), 0.3)\n",
    "\n",
    "\n",
    "if __name__ == \"__main__\":\n",
    "    unittest.main(argv=[\"\"], exit=False)"
   ]
  },
  {
   "cell_type": "markdown",
   "id": "9f4ddbaf",
   "metadata": {},
   "source": [
    "## 10.3. Técnicas para encontrar y corregir errores\n"
   ]
  },
  {
   "cell_type": "markdown",
   "id": "28bae5e9",
   "metadata": {},
   "source": [
    "### Básico\n"
   ]
  },
  {
   "cell_type": "code",
   "execution_count": 26,
   "id": "625fadd3",
   "metadata": {},
   "outputs": [
    {
     "name": "stdout",
     "output_type": "stream",
     "text": [
      "3.1304951684997055\n",
      "3.0\n",
      "Error: Ingrese un argumento que sea entero o flotante.\n",
      "None\n",
      "Error: Ingrese un argumento que sea positivo.\n",
      "None\n",
      "Error: Ingrese un argumento que sea entero o flotante.\n",
      "None\n"
     ]
    }
   ],
   "source": [
    "# Ejercicio 01\n",
    "import math\n",
    "\n",
    "\n",
    "def calculate_square_root(number=None):\n",
    "    try:\n",
    "        if not isinstance(number, (int, float)):\n",
    "            raise TypeError(\"Error: Ingrese un argumento que sea entero o flotante.\")\n",
    "\n",
    "        elif number < 0:\n",
    "            raise ValueError(\"Error: Ingrese un argumento que sea positivo.\")\n",
    "\n",
    "        else:\n",
    "            return math.sqrt(number)\n",
    "    except (TypeError, ValueError) as e:\n",
    "        print(e)\n",
    "        return None\n",
    "\n",
    "\n",
    "print(calculate_square_root(9.8))\n",
    "print(calculate_square_root(9))\n",
    "print(calculate_square_root(\"r\"))\n",
    "print(calculate_square_root(-3))\n",
    "print(calculate_square_root())"
   ]
  },
  {
   "cell_type": "code",
   "execution_count": 12,
   "id": "5bc9365f",
   "metadata": {},
   "outputs": [
    {
     "name": "stdout",
     "output_type": "stream",
     "text": [
      "Error: Input must be an integer.\n",
      "Error: Input must be a non-negative integer.\n",
      "Error: Input must be an integer.\n",
      "12\n"
     ]
    }
   ],
   "source": [
    "# Ejercicio 02\n",
    "def is_integer_positive(argument):\n",
    "    try:\n",
    "        if not isinstance(argument, (int)):\n",
    "            raise TypeError(\"Error: Input must be an integer.\")\n",
    "        if argument < 0:\n",
    "            raise ValueError(\"Error: Input must be a non-negative integer.\")\n",
    "        return argument\n",
    "    except (TypeError, ValueError) as e:\n",
    "        print(e)\n",
    "\n",
    "\n",
    "number_float = 12.2\n",
    "integer_neagative = -23\n",
    "string = \"asd\"\n",
    "integer = 12\n",
    "lista = [number_float, integer_neagative, string, integer]\n",
    "\n",
    "for evaluate in lista:\n",
    "    result = is_integer_positive(evaluate)\n",
    "    if result is not None:  # Solo imprime si es un entero válido\n",
    "        print(result)"
   ]
  },
  {
   "cell_type": "code",
   "execution_count": 14,
   "id": "b440377c",
   "metadata": {},
   "outputs": [
    {
     "name": "stdout",
     "output_type": "stream",
     "text": [
      "1.1666666666666667\n",
      "0.6086956521739131\n",
      "0.4117647058823529\n",
      "0.3111111111111111\n",
      "1.1447260834014719\n",
      "0.059719319199761124\n",
      "Error: Division by zero is not allowed.\n",
      "Error: Both inputs must be numbers.\n",
      "Error: Both inputs must be numbers.\n"
     ]
    }
   ],
   "source": [
    "# Ejercicio 03\n",
    "def divide(n, d):\n",
    "    try:\n",
    "        if not isinstance(n, (int, float)) or not isinstance(d, (int, float)):\n",
    "            raise TypeError(\"Error: Both inputs must be numbers.\")\n",
    "        if d == 0:\n",
    "            raise ZeroDivisionError(\"Error: Division by zero is not allowed.\")\n",
    "        return n / d\n",
    "    except (TypeError, ZeroDivisionError) as e:\n",
    "        print(e)\n",
    "        return None\n",
    "\n",
    "\n",
    "numerador = 14\n",
    "denominadores = [12, 23, 34, 45, 12.23, 234.43, 0, \"23\", \"d\"]\n",
    "for denominador in denominadores:\n",
    "    result = divide(numerador, denominador)\n",
    "    if result is not None:\n",
    "        print(result)"
   ]
  },
  {
   "cell_type": "code",
   "execution_count": 30,
   "id": "9bd743fd",
   "metadata": {},
   "outputs": [
    {
     "name": "stdout",
     "output_type": "stream",
     "text": [
      "12.0\n",
      "12.2\n",
      "could not convert string to float: 'sd'\n"
     ]
    }
   ],
   "source": [
    "# Ejercicio 04\n",
    "def string_to_number(string):\n",
    "    try:\n",
    "        if not isinstance(float(string), float):\n",
    "            raise ValueError(\"Error: Input string cannot be converted to a number.\")\n",
    "\n",
    "        elif int(valor) is int:\n",
    "            return int(string)\n",
    "\n",
    "        else:\n",
    "            return float(string)\n",
    "\n",
    "    except ValueError as e:\n",
    "        print(e)\n",
    "        return None\n",
    "\n",
    "\n",
    "strings = [\"12\", \"12.2\", \"sd\"]\n",
    "for string in strings:\n",
    "    result = string_to_number(string)\n",
    "    if result is not None:\n",
    "        print(result)"
   ]
  },
  {
   "cell_type": "markdown",
   "id": "b1ba0fe9-997e-432e-9533-6eaffbcf734c",
   "metadata": {},
   "source": [
    "# 11. Conceptos adicionales\n"
   ]
  },
  {
   "cell_type": "markdown",
   "id": "dad47981-1d74-4ddd-a6cb-8b743c53c30d",
   "metadata": {},
   "source": [
    "## 11.1. Introducción a la programación concurrente (hilos y procesos)\n"
   ]
  },
  {
   "cell_type": "markdown",
   "id": "ece8baff",
   "metadata": {},
   "source": [
    "### Básico\n"
   ]
  },
  {
   "cell_type": "code",
   "execution_count": 2,
   "id": "4cac0ec7",
   "metadata": {},
   "outputs": [
    {
     "name": "stdout",
     "output_type": "stream",
     "text": [
      "1\n",
      "2\n",
      "3\n",
      "4\n",
      "5\n",
      "50% de avance del proceso.\n",
      "6\n",
      "7\n",
      "8\n",
      "9\n",
      "10\n",
      "100% de avance del proceso.\n"
     ]
    }
   ],
   "source": [
    "# Ejercicio 01\n",
    "import threading\n",
    "import time\n",
    "\n",
    "\n",
    "def counter():\n",
    "    for i in range(10):\n",
    "        print(i + 1)\n",
    "        time.sleep(1)\n",
    "\n",
    "\n",
    "def print_message():\n",
    "    i = 0\n",
    "    while 10 > i:\n",
    "        i += 5\n",
    "        time.sleep(5)\n",
    "        print(f\"{i*10}% de avance del proceso.\")\n",
    "\n",
    "\n",
    "hilo_01 = threading.Thread(target=counter)\n",
    "hilo_02 = threading.Thread(target=print_message)\n",
    "\n",
    "hilo_01.start()\n",
    "hilo_02.start()\n",
    "\n",
    "hilo_01.join()\n",
    "hilo_02.join()"
   ]
  },
  {
   "cell_type": "code",
   "execution_count": 5,
   "id": "8dd31bf0",
   "metadata": {},
   "outputs": [
    {
     "name": "stdout",
     "output_type": "stream",
     "text": [
      "249999500000 250000000000\n"
     ]
    }
   ],
   "source": [
    "# Ejercicio 02\n",
    "# Desarrollo en el archivo 11_1_exercise_02.py\n",
    "def sum_pairs():\n",
    "    return sum(i for i in range(1, 1000000) if i % 2 == 0)\n",
    "\n",
    "\n",
    "def sum_nopairs():\n",
    "    return sum(i for i in range(1, 1000000) if i % 2 != 0)\n",
    "\n",
    "\n",
    "print(sum_pairs(), sum_nopairs())\n",
    "\n",
    "# Existe un error en el resultado cuando se usa multiprocessing"
   ]
  },
  {
   "cell_type": "code",
   "execution_count": null,
   "id": "88c299be-239b-4285-8737-8b5918391687",
   "metadata": {},
   "outputs": [],
   "source": [
    "# Ejemplo:\n",
    "import threading\n",
    "import time\n",
    "\n",
    "\n",
    "def tarea1():\n",
    "    print(\"Ejecutando tarea A\")\n",
    "    contar = 0\n",
    "    for i in range(10):\n",
    "        contar += 1\n",
    "        print(f\"A{contar}\")\n",
    "        time.sleep(2)\n",
    "\n",
    "\n",
    "def tarea2():\n",
    "    print(\"Ejecutando tarea B\")\n",
    "    contar = 0\n",
    "    for i in range(10):\n",
    "        contar += 1\n",
    "        print(f\"B{contar}\")\n",
    "\n",
    "\n",
    "# Crear hilos\n",
    "hilo1 = threading.Thread(target=tarea1)\n",
    "hilo2 = threading.Thread(target=tarea2)\n",
    "\n",
    "# Variable para controlar el loop\n",
    "fin = False\n",
    "\n",
    "while not fin:\n",
    "    opc = int(input(\"Ingresar 1 para tarea A, 2 para tarea B y 3 para salir: \"))\n",
    "    if opc == 1:\n",
    "        hilo1 = threading.Thread(target=tarea1)  # Crear un nuevo hilo para la tarea 1\n",
    "        hilo1.start()\n",
    "        hilo1.join()  # Esperar a que termine el hilo antes de continuar\n",
    "    elif opc == 2:\n",
    "        hilo2 = threading.Thread(target=tarea2)  # Crear un nuevo hilo para la tarea 2\n",
    "        hilo2.start()\n",
    "        hilo2.join()  # Esperar a que termine el hilo antes de continuar\n",
    "    elif opc == 3:\n",
    "        fin = True\n",
    "    else:\n",
    "        print(\"Opción no válida. Inténtelo de nuevo.\")\n",
    "\n",
    "print(\"El programa ha terminado.\")"
   ]
  },
  {
   "cell_type": "code",
   "execution_count": null,
   "id": "87d20a9f-3a56-41fa-9496-153a118abd6d",
   "metadata": {},
   "outputs": [],
   "source": [
    "import threading\n",
    "import time\n",
    "\n",
    "\n",
    "def tarea1():\n",
    "    print(\"Ejecutando tarea A\")\n",
    "    contar = 0\n",
    "    for i in range(10):\n",
    "        contar += 1\n",
    "        print(f\"A{contar}\")\n",
    "        time.sleep(2)\n",
    "\n",
    "\n",
    "def tarea2():\n",
    "    print(\"Ejecutando tarea B\")\n",
    "    contar = 0\n",
    "    for i in range(10):\n",
    "        contar += 1\n",
    "        print(f\"B{contar}\")\n",
    "        time.sleep(2)\n",
    "\n",
    "\n",
    "hilo1 = None  # Variables para almacenar los hilos\n",
    "hilo2 = None  # Variables para almacenar los hilos\n",
    "\n",
    "fin = False\n",
    "\n",
    "while not fin:\n",
    "    opc = int(input(\"Ingresar 1 para tarea A, 2 para tarea B y 3 para salir: \"))\n",
    "    if opc == 1:\n",
    "        if hilo1 and hilo1.is_alive():\n",
    "            print(\"Tarea A ya está en ejecución.\")\n",
    "        else:\n",
    "            hilo1 = threading.Thread(\n",
    "                target=tarea1\n",
    "            )  # Crear un nuevo hilo para la tarea 1\n",
    "            hilo1.start()\n",
    "    elif opc == 2:\n",
    "        if hilo2 and hilo2.is_alive():\n",
    "            print(\"Tarea B ya está en ejecución.\")\n",
    "        else:\n",
    "            hilo2 = threading.Thread(\n",
    "                target=tarea2\n",
    "            )  # Crear un nuevo hilo para la tarea 2\n",
    "            hilo2.start()\n",
    "    elif opc == 3:\n",
    "        fin = True\n",
    "    else:\n",
    "        print(\"Opción no válida. Inténtelo de nuevo.\")\n",
    "\n",
    "print(\"El programa ha terminado.\")"
   ]
  },
  {
   "cell_type": "code",
   "execution_count": null,
   "id": "564abc6a-76b0-4154-8471-d6161e614c0c",
   "metadata": {},
   "outputs": [],
   "source": [
    "import threading\n",
    "import time\n",
    "\n",
    "\n",
    "class Tarea:\n",
    "    def __init__(self, name_task):\n",
    "        self.name_task = name_task\n",
    "\n",
    "    def get_value(self, lock):  # Aceptar lock como parámetro\n",
    "        for i in range(15):\n",
    "            with lock:  # Usar el lock para sincronizar la salida\n",
    "                print(f\"{self.name_task}: {i+1}\")\n",
    "            time.sleep(1)\n",
    "\n",
    "\n",
    "tarea_A = Tarea(\"--A\")\n",
    "tarea_B = Tarea(\"--B\")\n",
    "\n",
    "lock = threading.Lock()\n",
    "\n",
    "hilo1 = threading.Thread(target=tarea_A.get_value, args=(lock,))\n",
    "hilo2 = threading.Thread(target=tarea_B.get_value, args=(lock,))\n",
    "\n",
    "hilo1.start()\n",
    "hilo2.start()\n",
    "\n",
    "hilo1.join()\n",
    "hilo2.join()\n",
    "\n",
    "print(\"Ambas tareas han terminado\")"
   ]
  },
  {
   "cell_type": "markdown",
   "id": "24a59a00-9663-447c-948b-37183346608e",
   "metadata": {},
   "source": [
    "### Nivel Básico\n"
   ]
  },
  {
   "cell_type": "code",
   "execution_count": 9,
   "id": "39dfc2a2-5e64-44fe-abbf-47ae5359ab39",
   "metadata": {},
   "outputs": [],
   "source": [
    "import threading"
   ]
  },
  {
   "cell_type": "code",
   "execution_count": 10,
   "id": "254f8107-2baa-43eb-8a6b-a9ca5a357cc2",
   "metadata": {},
   "outputs": [],
   "source": [
    "# Ejercicio 01\n",
    "import time\n",
    "\n",
    "\n",
    "def print_contar(numero):\n",
    "    contador = 0\n",
    "    for i in range(numero):\n",
    "        contador += 1\n",
    "        print(contador)\n",
    "        time.sleep(0.5)\n",
    "\n",
    "\n",
    "# print_contar(8)\n",
    "def print_mensaje():\n",
    "    print(\"Este es la ejecucion de otro proceso!\")"
   ]
  },
  {
   "cell_type": "code",
   "execution_count": null,
   "id": "55f72bcc-3bf2-4f3f-8f2f-c2cdab17ef16",
   "metadata": {},
   "outputs": [],
   "source": [
    "numero = int(input(\"Ingresar hasta que valor desea contar:\"))\n",
    "hilos = []\n",
    "for i in range(numero):\n",
    "    hilo = threading.Thread()"
   ]
  },
  {
   "cell_type": "markdown",
   "id": "5243dadf",
   "metadata": {},
   "source": [
    "## 11.2. Manipulación de fechas y horas\n"
   ]
  },
  {
   "cell_type": "markdown",
   "id": "b0cf87df",
   "metadata": {},
   "source": [
    "### Básico\n"
   ]
  },
  {
   "cell_type": "code",
   "execution_count": 41,
   "id": "6b624c8e",
   "metadata": {},
   "outputs": [
    {
     "name": "stdout",
     "output_type": "stream",
     "text": [
      "2024-09-24 12:48:09\n",
      "24-September-2024\n",
      "12:48:09\n",
      "213 days, 0:00:00\n"
     ]
    }
   ],
   "source": [
    "# Ejercicio 01\n",
    "import datetime\n",
    "\n",
    "fecha_hoy = datetime.datetime.now()\n",
    "print(fecha_hoy.strftime(\"%Y-%m-%d %H:%M:%S\"))\n",
    "print(fecha_hoy.strftime(\"%d-%B-%Y\"))\n",
    "print(fecha_hoy.strftime(\"%H:%M:%S\"))\n",
    "\n",
    "# Ejercicio 02\n",
    "\n",
    "\n",
    "def dif_date(start_date, end_date):\n",
    "    return end_date - start_date\n",
    "\n",
    "\n",
    "start_date = datetime.date(2024, 2, 13)\n",
    "end_date = datetime.date(2024, 9, 13)\n",
    "\n",
    "print(dif_date(start_date, end_date))"
   ]
  },
  {
   "cell_type": "markdown",
   "id": "79466f03",
   "metadata": {},
   "source": [
    "## 11.3. Web scraping\n"
   ]
  },
  {
   "cell_type": "markdown",
   "id": "65156032",
   "metadata": {},
   "source": [
    "##### _Ejercicio 01 Se realíza en en el archivo ejercicio 11_3_web_scraping_exercise_01.py_\n"
   ]
  },
  {
   "cell_type": "markdown",
   "id": "f4f60a19-dfbb-4eae-a221-14c7b7eb7c6a",
   "metadata": {},
   "source": [
    "## 11.4. Otros ejercicios\n"
   ]
  },
  {
   "cell_type": "markdown",
   "id": "212adb3d-8afb-44bd-b8dd-7b08c5d027ec",
   "metadata": {},
   "source": [
    "### 11.4.1. Programación paralela\n"
   ]
  },
  {
   "cell_type": "markdown",
   "id": "0bc82f20",
   "metadata": {},
   "source": [
    "Ejercicio 01\n",
    "\n",
    "Crea un programa que simule un sistema de gestión de pedidos en una cafetería. El programa debe permitir a los usuarios realizar los siguientes pasos:\n",
    "\n",
    "- Ingresar su nombre y el pedido de un café (puede elegir entre diferentes tipos como espresso, cappuccino o latte).\n",
    "\n",
    "- Una vez realizado el pedido, el programa debe simular un tiempo de preparación de 5 segundos para el café (utilizando operaciones de entrada/salida).\n",
    "\n",
    "o Mientras se está preparando el café, el programa debe permitir al usuario seguir ingresando otros pedidos de café hasta que decida salir del sistema.\n",
    "\n",
    "Al final, cuando todos los pedidos se hayan realizado, el programa debe mostrar un resumen de los pedidos realizados junto con el tiempo total de espera.\n"
   ]
  },
  {
   "cell_type": "markdown",
   "id": "f43d7769",
   "metadata": {},
   "source": [
    "Se desarrolla el ejercicio en el archivo programing_parallel_exercise_01\n"
   ]
  },
  {
   "cell_type": "markdown",
   "id": "f82ccc51-b0fc-45eb-87c1-abebc72a9230",
   "metadata": {},
   "source": [
    "#### Ejercicio 02\n",
    "\n",
    "##### **Suma de elementos de una lista**: Calcula la suma de todos los elementos en una lista de números utilizando múltiples hilos. Divide la lista en sublistas y asigna cada sublista a un hilo para que cada hilo calcule la suma parcial.\n",
    "\n",
    "Tareas:\n",
    "\n",
    "- Divide la lista en partes iguales.\n",
    "- Crea un hilo para cada parte y calcula la suma parcial.\n",
    "- Combina las sumas parciales para obtener la suma total.tal.\n"
   ]
  },
  {
   "cell_type": "code",
   "execution_count": 1,
   "id": "b354a7f8-6a2f-4b63-bfc8-25677acf19d9",
   "metadata": {},
   "outputs": [],
   "source": [
    "list_big_OfNumbers = [i for i in range(1000000)]"
   ]
  },
  {
   "cell_type": "code",
   "execution_count": 2,
   "id": "151a1441-892c-446b-8889-ae07d99fdee2",
   "metadata": {},
   "outputs": [],
   "source": [
    "from threading import Thread\n",
    "\n",
    "\n",
    "def sumar_lista(lista, numero_hilos):\n",
    "    def sumar_numeros_lista(sublista, resultados, indice):\n",
    "        resultados[indice] = sum(sublista)\n",
    "\n",
    "    tamaño_sublistas = len(lista) // numero_hilos\n",
    "    sublistas = [\n",
    "        lista[i * tamaño_sublistas : (i + 1) * tamaño_sublistas]\n",
    "        for i in range(numero_hilos)\n",
    "    ]\n",
    "\n",
    "    if len(lista) % numero_hilos != 0:\n",
    "        sublistas[-1].extend(lista[tamaño_sublistas * numero_hilos :])\n",
    "\n",
    "    resultados = [0] * numero_hilos\n",
    "    hilos = []\n",
    "\n",
    "    for i in range(numero_hilos):\n",
    "        hilo = Thread(target=sumar_numeros_lista, args=(sublistas[i], resultados, i))\n",
    "        hilos.append(hilo)\n",
    "        hilo.start()\n",
    "\n",
    "    for hilo in hilos:\n",
    "        hilo.join()\n",
    "    return sum(resultados)"
   ]
  },
  {
   "cell_type": "code",
   "execution_count": 3,
   "id": "6880aa30-9f76-469b-963e-b55a67ad9d16",
   "metadata": {},
   "outputs": [
    {
     "name": "stdout",
     "output_type": "stream",
     "text": [
      "499999500000\n"
     ]
    }
   ],
   "source": [
    "resultado = sumar_lista(list_big_OfNumbers, 4)\n",
    "print(resultado)"
   ]
  },
  {
   "cell_type": "markdown",
   "id": "e298a107",
   "metadata": {},
   "source": [
    "### 11.4.2. Librería re\n"
   ]
  },
  {
   "cell_type": "markdown",
   "id": "aae404cd",
   "metadata": {},
   "source": [
    "Ejercicio 01\n"
   ]
  },
  {
   "cell_type": "code",
   "execution_count": 6,
   "id": "ba578f92",
   "metadata": {},
   "outputs": [
    {
     "name": "stdout",
     "output_type": "stream",
     "text": [
      "['34234098', '0', '324', '5', '9384', '203']\n"
     ]
    }
   ],
   "source": [
    "import re\n",
    "\n",
    "\n",
    "def extract_numbers(string: str) -> list[str]:\n",
    "    return re.findall(r\"\\d+\", string)\n",
    "\n",
    "\n",
    "mi_string = \"fsadfvasdgknmlk34234098u0wejtlsadkfm324i5ur9384tfewqinflaejtr203\"\n",
    "print(extract_numbers(mi_string))"
   ]
  },
  {
   "cell_type": "markdown",
   "id": "ef64f177",
   "metadata": {},
   "source": [
    "Ejercicio 02\n"
   ]
  },
  {
   "cell_type": "code",
   "execution_count": 7,
   "id": "ce6254b4",
   "metadata": {},
   "outputs": [
    {
     "name": "stdout",
     "output_type": "stream",
     "text": [
      "True\n",
      "False\n",
      "False\n"
     ]
    }
   ],
   "source": [
    "import re\n",
    "\n",
    "\n",
    "def validate_phone_number(phone_number: str) -> bool:\n",
    "    if not isinstance(phone_number, str):\n",
    "        return False\n",
    "    \n",
    "    return bool(re.fullmatch(r\"\\(\\d+\\)\\s\\d{3}\\-\\d{4}\", phone_number))\n",
    "\n",
    "\n",
    "numbers_telephones = [\"(123) 456-7890\", \"(75) 456-78900\", None]\n",
    "\n",
    "for i in numbers_telephones:\n",
    "    print(validate_phone_number(i))"
   ]
  },
  {
   "cell_type": "markdown",
   "id": "e2cd7121-9dea-4fd2-8274-28a1dae816c6",
   "metadata": {},
   "source": [
    "# Ejercicios de POO\n"
   ]
  },
  {
   "cell_type": "code",
   "execution_count": 13,
   "id": "bd3c33aa-6551-4f17-aa65-fbd8a2ae96e6",
   "metadata": {},
   "outputs": [
    {
     "name": "stdout",
     "output_type": "stream",
     "text": [
      "Hola mi nombre es Lucas\n"
     ]
    }
   ],
   "source": [
    "# Ejercicio 01\n",
    "class Person:\n",
    "    def imprimir_saludo(self):\n",
    "        print(f\"Hola mi nombre es {self.nombre}\")\n",
    "\n",
    "\n",
    "persona01 = Person()\n",
    "persona01.nombre = \"Lucas\"\n",
    "persona01.imprimir_saludo()"
   ]
  },
  {
   "cell_type": "code",
   "execution_count": 14,
   "id": "048628d7-de9f-4d62-8271-469891166ae4",
   "metadata": {},
   "outputs": [
    {
     "name": "stdout",
     "output_type": "stream",
     "text": [
      "Hola, mi nombre es Lucas y tengo 34 años\n"
     ]
    }
   ],
   "source": [
    "# Ejercicio 02\n",
    "class Person:\n",
    "    def __init__(self, nombre, edad):\n",
    "        self.nombre = nombre\n",
    "        self.edad = edad\n",
    "\n",
    "    def imprimir_saludo(self):\n",
    "        print(f\"Hola, mi nombre es {self.nombre} y tengo {self.edad} años\")\n",
    "\n",
    "\n",
    "persona01 = Person(\"Lucas\", 34)\n",
    "persona01.imprimir_saludo()"
   ]
  },
  {
   "cell_type": "code",
   "execution_count": 3,
   "id": "a4a5ebfb-ac4b-4a86-bbf5-6d04998ee7b8",
   "metadata": {},
   "outputs": [
    {
     "name": "stdout",
     "output_type": "stream",
     "text": [
      "Hola, mi nombre es Lucas y tengo 34 años\n",
      "Lucas 34\n",
      "Hola, mi nombre es Jaina y tengo 17 años\n"
     ]
    }
   ],
   "source": [
    "# Ejercicio 03\n",
    "class Person:\n",
    "    def __init__(self, nombre, edad):\n",
    "        self.__nombre = nombre\n",
    "        self.__edad = edad\n",
    "\n",
    "    def get_atributos(self):\n",
    "        return self.__nombre, self.__edad\n",
    "\n",
    "    def set_atributos(self, nombre, edad):\n",
    "        self.__nombre = nombre\n",
    "        self.__edad = edad\n",
    "\n",
    "    def imprimir_saludo(self):\n",
    "        print(f\"Hola, mi nombre es {self.__nombre} y tengo {self.__edad} años\")\n",
    "\n",
    "\n",
    "persona01 = Person(\"Lucas\", 34)\n",
    "persona01.imprimir_saludo()\n",
    "nombre, edad = persona01.get_atributos()\n",
    "print(nombre, edad)\n",
    "persona01.set_atributos(nombre=\"Jaina\", edad=17)\n",
    "persona01.imprimir_saludo()"
   ]
  },
  {
   "cell_type": "markdown",
   "id": "d9b19811-d05d-4725-b4ce-581627ed00ec",
   "metadata": {},
   "source": [
    "## Ejercicio 4:\n",
    "\n",
    "Crea una clase Empleado que herede de Persona y añade un atributo salario.\n",
    "\n",
    "Crea un método mostrar_informacion que muestre todos los atributos del empleado.\n"
   ]
  },
  {
   "cell_type": "code",
   "execution_count": 8,
   "id": "559749f5-afdc-49f4-8dd2-32aecb95d98b",
   "metadata": {},
   "outputs": [
    {
     "name": "stdout",
     "output_type": "stream",
     "text": [
      "Nombre: Illidan \n",
      "Edad: 12456 \n",
      "Salario: 100000000\n",
      "None\n"
     ]
    }
   ],
   "source": [
    "class Empleado(Person):\n",
    "    def __init__(self, nombre, edad, salario):\n",
    "        super().__init__(nombre, edad)\n",
    "        self.__salario = salario\n",
    "\n",
    "    def imprimir_informacion(self):\n",
    "        nombre, edad = self.get_atributos()\n",
    "        print(f\"Nombre: {nombre} \\nEdad: {edad} \\nSalario: {self.__salario}\")\n",
    "\n",
    "\n",
    "empleado01 = Empleado(\"Illidan\", 12456, 100000000)\n",
    "\n",
    "print(empleado01.imprimir_informacion())"
   ]
  },
  {
   "cell_type": "markdown",
   "id": "4f3fe0a0-837c-477c-8752-e8f47fad0092",
   "metadata": {},
   "source": [
    "### Ejercicio 05\n",
    "\n",
    "Crea una clase Estudiante que también herede de Persona y sobrescribe el método saludar para que incluya el nombre de la escuela.\n",
    "\n",
    "Crea un objeto de Empleado y Estudiante, y llama a sus métodos saludar.\n"
   ]
  },
  {
   "cell_type": "code",
   "execution_count": 10,
   "id": "8b0d2419-4914-4970-8fe3-084dcac16ed2",
   "metadata": {},
   "outputs": [
    {
     "name": "stdout",
     "output_type": "stream",
     "text": [
      "Hola mi nombre es Antonidas y mi edad es de 13 años, estudio en Las mañanitas doradas.IE\n",
      "Nombre: Illidan \n",
      "Edad: 12456 \n",
      "Salario: 100000000\n"
     ]
    }
   ],
   "source": [
    "class Estudiante(Person):\n",
    "    def __init__(self, nombre, edad, colegio):\n",
    "        super().__init__(nombre, edad)\n",
    "        self.__colegio = colegio\n",
    "\n",
    "    def imprimir_saludo(self):\n",
    "        nombre, edad = self.get_atributos()\n",
    "        print(\n",
    "            f\"Hola mi nombre es {nombre} y mi edad es de {edad} años, estudio en {self.__colegio}\"\n",
    "        )\n",
    "\n",
    "\n",
    "estudiante01 = Estudiante(\"Antonidas\", 13, \"Las mañanitas doradas.IE\")\n",
    "\n",
    "estudiante01.imprimir_saludo()\n",
    "empleado01.imprimir_informacion()"
   ]
  },
  {
   "cell_type": "markdown",
   "id": "69a3cb95-6d5c-41f8-b74e-8b2213d2c24d",
   "metadata": {},
   "source": [
    "### Ejercicio 06\n",
    "\n",
    "Crea una clase Coche con atributos marca, modelo, y motor (donde motor es un objeto de una clase Motor que tiene atributos como tipo y potencia). Implementa un método detalles_coche que muestre toda la información del coche.\n"
   ]
  },
  {
   "cell_type": "code",
   "execution_count": 12,
   "id": "9cffff9d-740b-417e-8cb4-ba9a1b6860d8",
   "metadata": {},
   "outputs": [
    {
     "name": "stdout",
     "output_type": "stream",
     "text": [
      "Detalle del coche:\n",
      "Marca: Toyota \n",
      "Modelo: A345 \n",
      "Detalle del motor:\n",
      "Tipo: Doble \n",
      "Potencia: 300 caballos\n"
     ]
    }
   ],
   "source": [
    "class Motor:\n",
    "    def __init__(self, tipo, potencia):\n",
    "        self.__tipo = tipo\n",
    "        self.__potencia = potencia\n",
    "\n",
    "    def get_detalle_motor(self):\n",
    "        return f\"Tipo: {self.__tipo} \\nPotencia: {self.__potencia}\"\n",
    "\n",
    "\n",
    "class Coche:\n",
    "    def __init__(self, marca, modelo, motor):\n",
    "        self.__marca = marca\n",
    "        self.__modelo = modelo\n",
    "        self.__motor = motor\n",
    "\n",
    "    def get_detalle_coche(self):\n",
    "        string_detalle_motor = self.__motor.get_detalle_motor()\n",
    "        return f\"Detalle del coche:\\nMarca: {self.__marca} \\nModelo: {self.__modelo} \\nDetalle del motor:\\n{string_detalle_motor}\"\n",
    "\n",
    "\n",
    "motor_micoche = Motor(\"Doble\", \"300 caballos\")\n",
    "micoche = Coche(\"Toyota\", \"A345\", motor_micoche)\n",
    "print(micoche.get_detalle_coche())"
   ]
  },
  {
   "cell_type": "code",
   "execution_count": 17,
   "id": "472d67d0-552c-4446-90c1-2944db316c9d",
   "metadata": {},
   "outputs": [],
   "source": []
  },
  {
   "cell_type": "code",
   "execution_count": null,
   "id": "b66677ab-cabc-4708-97a1-467eacf8be4b",
   "metadata": {},
   "outputs": [],
   "source": []
  },
  {
   "cell_type": "code",
   "execution_count": null,
   "id": "f3c1ef5c-1eb9-4428-88a0-0ed354b2804a",
   "metadata": {},
   "outputs": [],
   "source": []
  }
 ],
 "metadata": {
  "kernelspec": {
   "display_name": "Python 3",
   "language": "python",
   "name": "python3"
  },
  "language_info": {
   "codemirror_mode": {
    "name": "ipython",
    "version": 3
   },
   "file_extension": ".py",
   "mimetype": "text/x-python",
   "name": "python",
   "nbconvert_exporter": "python",
   "pygments_lexer": "ipython3",
   "version": "3.10.8"
  }
 },
 "nbformat": 4,
 "nbformat_minor": 5
}
